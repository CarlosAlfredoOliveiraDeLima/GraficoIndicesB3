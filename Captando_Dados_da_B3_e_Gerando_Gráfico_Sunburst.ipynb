{
  "nbformat": 4,
  "nbformat_minor": 0,
  "metadata": {
    "colab": {
      "name": "Captando Dados da B3 e Gerando Gráfico Sunburst.ipynb",
      "provenance": [],
      "collapsed_sections": [
        "9K1le3PSMhAo",
        "78sJ9YSiMzQb",
        "nvkO7LlnRMBl",
        "2V2h-V5CTJKL",
        "g_h4w-DRGCtM",
        "tquO49rVIulr"
      ],
      "authorship_tag": "ABX9TyNz3HjweAEiRymRhz6XWTUm"
    },
    "kernelspec": {
      "name": "python3",
      "display_name": "Python 3"
    },
    "language_info": {
      "name": "python"
    }
  },
  "cells": [
    {
      "cell_type": "markdown",
      "metadata": {
        "id": "7plW_0pIIQaW"
      },
      "source": [
        "# Captando dados de índices Ibovespa|B3 e gerando um gráfico sunburst interativo\n",
        "\n",
        "Neste tutorial faremos a captação de dados das empresas listadas no índice Ibovespa, vale citar que neste índice não constam todas as empresas listadas na bolsa, para mais conhecimento dos índices listados e futuras mudanças sobre qual índice deseja gerar o gráfico, consulte a [seção de índices amplos da B3](http://www.b3.com.br/pt_br/market-data-e-indices/indices/indices-amplos/).\n"
      ]
    },
    {
      "cell_type": "markdown",
      "metadata": {
        "id": "tddcqH0bIaga"
      },
      "source": [
        "> Iremos gerar nosso gráfico com base nos setores do índice IBOV, há outros índices e deixarei no final uma lista com os índices para que possam extrair dados de outros índices."
      ]
    },
    {
      "cell_type": "markdown",
      "metadata": {
        "id": "9K1le3PSMhAo"
      },
      "source": [
        "# Criando o Ambiente para Captar os Dados\n",
        "Captaremos os dados diretamente da B3 por web scraping. Vamos optar por não fazer o download do arquivo CSV, mas de captarmos ele diretamente no código fonte de página em questão.\n",
        "Usaremos a biblioteca Kora, para acessarmos o site da B3 e emularmos o browser através de código, pois os dados que buscamos não voltam em HTML mas em funções Javascript, [podem conhecer mais sobre o Kora aqui](https://github.com/korakot/kora).\n",
        "\n",
        "Usaremos o Pandas para manipularmos e tratarmos os dados e o DataTable para melhorarmos a apresentação dos dados.\n",
        "\n",
        "Como vamos acessar virtualmente a página da B3 emulando um browser, usaremos também o Sleep a fim de darmos tempo de 'carregar' toda a página em nosso código."
      ]
    },
    {
      "cell_type": "code",
      "metadata": {
        "colab": {
          "base_uri": "https://localhost:8080/"
        },
        "id": "aglBa5FlOKZD",
        "outputId": "f071ff2c-e4a9-41df-f6ec-6fedcc666c5a"
      },
      "source": [
        "!pip install -q kora"
      ],
      "execution_count": 2,
      "outputs": [
        {
          "output_type": "stream",
          "text": [
            "\u001b[K     |████████████████████████████████| 61kB 3.0MB/s \n",
            "\u001b[K     |████████████████████████████████| 61kB 6.8MB/s \n",
            "\u001b[?25h"
          ],
          "name": "stdout"
        }
      ]
    },
    {
      "cell_type": "code",
      "metadata": {
        "id": "_zU8_5a9OU8Y"
      },
      "source": [
        "from kora.selenium import wd\n",
        "\n",
        "import pandas as pd\n",
        "from google.colab.data_table import DataTable\n",
        "from time import sleep"
      ],
      "execution_count": 3,
      "outputs": []
    },
    {
      "cell_type": "markdown",
      "metadata": {
        "id": "78sJ9YSiMzQb"
      },
      "source": [
        "# Criação da Função de Captação dos Dados"
      ]
    },
    {
      "cell_type": "code",
      "metadata": {
        "id": "t3j8bOLYP__Y"
      },
      "source": [
        "def busca_carteira_teorica(indice, espera=5):\n",
        "  url = f'https://sistemaswebb3-listados.b3.com.br/indexPage/day/{indice.upper()}?language=pt-br'\n",
        "  wd.get(url)\n",
        "  sleep(espera)\n",
        "\n",
        "  #Id 'segment' é o id usado no código da página, pode-se confirmar visualizando o código HTML da URL usada.\n",
        "  wd.find_element_by_id('segment').send_keys(\"Setor de Atuação\")\n",
        "  sleep(espera)\n",
        "  \n",
        "  #Encontra um link com texto 'Download' e executa um click no link, o texto 'Download' também pode ser confirmado no código HTML\n",
        "  wd.find_element_by_link_text(\"Download\").click()\n",
        "  sleep(espera)\n",
        "\n",
        "  #Aqui após o download do arquivo CSV, ordenamos os arquivos CSVs por ordem de mais novos caso em nosso diretório de arquivos já contenha algum CSV.\n",
        "  arquivos = !ls -1t *.csv\n",
        "  return pd.read_csv(arquivos[0], sep=';', encoding='ISO-8859-1', skipfooter=2, engine='python', thousands='.', decimal=',', header=1, index_col=False)  \n"
      ],
      "execution_count": 4,
      "outputs": []
    },
    {
      "cell_type": "markdown",
      "metadata": {
        "id": "nvkO7LlnRMBl"
      },
      "source": [
        "# Captando os Dados do arquivo CSV através da Função\n",
        "Agora executaremos nossa função passando como argumento o índice 'ibov', lembrando que há vários índices, e tais índices com as respectivas descrições estarão no final do tutorial."
      ]
    },
    {
      "cell_type": "code",
      "metadata": {
        "colab": {
          "base_uri": "https://localhost:8080/",
          "height": 620
        },
        "id": "g6DEaAq2Rl3b",
        "outputId": "e8969388-338c-4c6b-cb7b-228b513a0411"
      },
      "source": [
        "ibov = busca_carteira_teorica('ibov', 5)\n",
        "DataTable(ibov)"
      ],
      "execution_count": 5,
      "outputs": [
        {
          "output_type": "execute_result",
          "data": {
            "application/vnd.google.colaboratory.module+javascript": "\n      import \"https://ssl.gstatic.com/colaboratory/data_table/a6224c040fa35dcf/data_table.js\";\n\n      window.createDataTable({\n        data: [[{\n            'v': 0,\n            'f': \"0\",\n        },\n\"Bens Indls / M\\u00e1qs e Equips\",\n\"WEGE3\",\n\"WEG\",\n\"ON      NM\",\n{\n            'v': 1482296002,\n            'f': \"1482296002\",\n        },\n{\n            'v': 2.108,\n            'f': \"2.108\",\n        },\n{\n            'v': 2.108,\n            'f': \"2.108\",\n        }],\n [{\n            'v': 1,\n            'f': \"1\",\n        },\n\"Bens Indls / Mat Transporte\",\n\"EMBR3\",\n\"EMBRAER\",\n\"ON      NM\",\n{\n            'v': 736143105,\n            'f': \"736143105\",\n        },\n{\n            'v': 0.526,\n            'f': \"0.526\",\n        },\n{\n            'v': 0.526,\n            'f': \"0.526\",\n        }],\n [{\n            'v': 2,\n            'f': \"2\",\n        },\n\"Bens Indls/Transporte\",\n\"AZUL4\",\n\"AZUL\",\n\"PN      N2\",\n{\n            'v': 327262616,\n            'f': \"327262616\",\n        },\n{\n            'v': 0.586,\n            'f': \"0.586\",\n        },\n{\n            'v': 2.642,\n            'f': \"2.642\",\n        }],\n [{\n            'v': 3,\n            'f': \"3\",\n        },\n\"Bens Indls/Transporte\",\n\"CCRO3\",\n\"CCR SA\",\n\"ON      NM\",\n{\n            'v': 1115693556,\n            'f': \"1115693556\",\n        },\n{\n            'v': 0.6920000000000001,\n            'f': \"0.6920000000000001\",\n        },\n{\n            'v': 2.642,\n            'f': \"2.642\",\n        }],\n [{\n            'v': 4,\n            'f': \"4\",\n        },\n\"Bens Indls/Transporte\",\n\"ECOR3\",\n\"ECORODOVIAS\",\n\"ON      NM\",\n{\n            'v': 172602770,\n            'f': \"172602770\",\n        },\n{\n            'v': 0.094,\n            'f': \"0.094\",\n        },\n{\n            'v': 2.642,\n            'f': \"2.642\",\n        }],\n [{\n            'v': 5,\n            'f': \"5\",\n        },\n\"Bens Indls/Transporte\",\n\"GOLL4\",\n\"GOL\",\n\"PN      N2\",\n{\n            'v': 139276933,\n            'f': \"139276933\",\n        },\n{\n            'v': 0.162,\n            'f': \"0.162\",\n        },\n{\n            'v': 2.642,\n            'f': \"2.642\",\n        }],\n [{\n            'v': 6,\n            'f': \"6\",\n        },\n\"Bens Indls/Transporte\",\n\"RAIL3\",\n\"RUMO S.A.\",\n\"ON      NM\",\n{\n            'v': 1218081171,\n            'f': \"1218081171\",\n        },\n{\n            'v': 1.1079999999999999,\n            'f': \"1.1079999999999999\",\n        },\n{\n            'v': 2.642,\n            'f': \"2.642\",\n        }],\n [{\n            'v': 7,\n            'f': \"7\",\n        },\n\"Cons N  B\\u00e1sico / Alimentos Processados\",\n\"BRFS3\",\n\"BRF SA\",\n\"ON      NM\",\n{\n            'v': 811759800,\n            'f': \"811759800\",\n        },\n{\n            'v': 0.805,\n            'f': \"0.805\",\n        },\n{\n            'v': 3.089,\n            'f': \"3.089\",\n        }],\n [{\n            'v': 8,\n            'f': \"8\",\n        },\n\"Cons N  B\\u00e1sico / Alimentos Processados\",\n\"JBSS3\",\n\"JBS\",\n\"ON      NM\",\n{\n            'v': 1388025890,\n            'f': \"1388025890\",\n        },\n{\n            'v': 1.867,\n            'f': \"1.867\",\n        },\n{\n            'v': 3.089,\n            'f': \"3.089\",\n        }],\n [{\n            'v': 9,\n            'f': \"9\",\n        },\n\"Cons N  B\\u00e1sico / Alimentos Processados\",\n\"MRFG3\",\n\"MARFRIG\",\n\"ON      NM\",\n{\n            'v': 368864634,\n            'f': \"368864634\",\n        },\n{\n            'v': 0.315,\n            'f': \"0.315\",\n        },\n{\n            'v': 3.089,\n            'f': \"3.089\",\n        }],\n [{\n            'v': 10,\n            'f': \"10\",\n        },\n\"Cons N  B\\u00e1sico / Alimentos Processados\",\n\"BEEF3\",\n\"MINERVA\",\n\"ON      NM\",\n{\n            'v': 240482896,\n            'f': \"240482896\",\n        },\n{\n            'v': 0.102,\n            'f': \"0.102\",\n        },\n{\n            'v': 3.089,\n            'f': \"3.089\",\n        }],\n [{\n            'v': 11,\n            'f': \"11\",\n        },\n\"Cons N C\\u00edclico / Bebidas\",\n\"ABEV3\",\n\"AMBEV S/A\",\n\"ON\",\n{\n            'v': 4358542894,\n            'f': \"4358542894\",\n        },\n{\n            'v': 3.444,\n            'f': \"3.444\",\n        },\n{\n            'v': 3.444,\n            'f': \"3.444\",\n        }],\n [{\n            'v': 12,\n            'f': \"12\",\n        },\n\"Cons N C\\u00edclico / Com\\u00e9rcio Distr.\",\n\"ASAI3\",\n\"ASSAI\",\n\"ON      NM\",\n{\n            'v': 88180251,\n            'f': \"88180251\",\n        },\n{\n            'v': 0.32899999999999996,\n            'f': \"0.32899999999999996\",\n        },\n{\n            'v': 0.9359999999999999,\n            'f': \"0.9359999999999999\",\n        }],\n [{\n            'v': 13,\n            'f': \"13\",\n        },\n\"Cons N C\\u00edclico / Com\\u00e9rcio Distr.\",\n\"CRFB3\",\n\"CARREFOUR BR\",\n\"ON      NM\",\n{\n            'v': 391758726,\n            'f': \"391758726\",\n        },\n{\n            'v': 0.36,\n            'f': \"0.36\",\n        },\n{\n            'v': 0.9359999999999999,\n            'f': \"0.9359999999999999\",\n        }],\n [{\n            'v': 14,\n            'f': \"14\",\n        },\n\"Cons N C\\u00edclico / Com\\u00e9rcio Distr.\",\n\"PCAR3\",\n\"P.ACUCAR-CBD\",\n\"ON      NM\",\n{\n            'v': 156928631,\n            'f': \"156928631\",\n        },\n{\n            'v': 0.247,\n            'f': \"0.247\",\n        },\n{\n            'v': 0.9359999999999999,\n            'f': \"0.9359999999999999\",\n        }],\n [{\n            'v': 15,\n            'f': \"15\",\n        },\n\"Cons N C\\u00edclico / Pr Pessoal Limp\",\n\"NTCO3\",\n\"GRUPO NATURA\",\n\"ON      NM\",\n{\n            'v': 841433075,\n            'f': \"841433075\",\n        },\n{\n            'v': 1.9180000000000001,\n            'f': \"1.9180000000000001\",\n        },\n{\n            'v': 1.9180000000000001,\n            'f': \"1.9180000000000001\",\n        }],\n [{\n            'v': 16,\n            'f': \"16\",\n        },\n\"Consumo C\\u00edclico / Com\\u00e9rcio\",\n\"BTOW3\",\n\"B2W DIGITAL\",\n\"ON      NM\",\n{\n            'v': 201802882,\n            'f': \"201802882\",\n        },\n{\n            'v': 0.514,\n            'f': \"0.514\",\n        },\n{\n            'v': 6.121,\n            'f': \"6.121\",\n        }],\n [{\n            'v': 17,\n            'f': \"17\",\n        },\n\"Consumo C\\u00edclico / Com\\u00e9rcio\",\n\"LAME4\",\n\"LOJAS AMERIC\",\n\"PN      N1\",\n{\n            'v': 847010651,\n            'f': \"847010651\",\n        },\n{\n            'v': 0.726,\n            'f': \"0.726\",\n        },\n{\n            'v': 6.121,\n            'f': \"6.121\",\n        }],\n [{\n            'v': 18,\n            'f': \"18\",\n        },\n\"Consumo C\\u00edclico / Com\\u00e9rcio\",\n\"LREN3\",\n\"LOJAS RENNER\",\n\"ON      NM\",\n{\n            'v': 887417914,\n            'f': \"887417914\",\n        },\n{\n            'v': 1.7719999999999998,\n            'f': \"1.7719999999999998\",\n        },\n{\n            'v': 6.121,\n            'f': \"6.121\",\n        }],\n [{\n            'v': 19,\n            'f': \"19\",\n        },\n\"Consumo C\\u00edclico / Com\\u00e9rcio\",\n\"MGLU3\",\n\"MAGAZ LUIZA\",\n\"ON      NM\",\n{\n            'v': 2668955512,\n            'f': \"2668955512\",\n        },\n{\n            'v': 2.244,\n            'f': \"2.244\",\n        },\n{\n            'v': 6.121,\n            'f': \"6.121\",\n        }],\n [{\n            'v': 20,\n            'f': \"20\",\n        },\n\"Consumo C\\u00edclico / Com\\u00e9rcio\",\n\"VVAR3\",\n\"VIAVAREJO\",\n\"ON      NM\",\n{\n            'v': 1595508601,\n            'f': \"1595508601\",\n        },\n{\n            'v': 0.865,\n            'f': \"0.865\",\n        },\n{\n            'v': 6.121,\n            'f': \"6.121\",\n        }],\n [{\n            'v': 21,\n            'f': \"21\",\n        },\n\"Consumo C\\u00edclico / Tecid Vest Cal\\u00e7\",\n\"HGTX3\",\n\"CIA HERING\",\n\"ON      NM\",\n{\n            'v': 126186408,\n            'f': \"126186408\",\n        },\n{\n            'v': 0.163,\n            'f': \"0.163\",\n        },\n{\n            'v': 0.163,\n            'f': \"0.163\",\n        }],\n [{\n            'v': 22,\n            'f': \"22\",\n        },\n\"Consumo C\\u00edclico/Constr Civil\",\n\"CYRE3\",\n\"CYRELA REALT\",\n\"ON      NM\",\n{\n            'v': 281154098,\n            'f': \"281154098\",\n        },\n{\n            'v': 0.292,\n            'f': \"0.292\",\n        },\n{\n            'v': 0.753,\n            'f': \"0.753\",\n        }],\n [{\n            'v': 23,\n            'f': \"23\",\n        },\n\"Consumo C\\u00edclico/Constr Civil\",\n\"EZTC3\",\n\"EZTEC\",\n\"ON      NM\",\n{\n            'v': 95756217,\n            'f': \"95756217\",\n        },\n{\n            'v': 0.133,\n            'f': \"0.133\",\n        },\n{\n            'v': 0.753,\n            'f': \"0.753\",\n        }],\n [{\n            'v': 24,\n            'f': \"24\",\n        },\n\"Consumo C\\u00edclico/Constr Civil\",\n\"JHSF3\",\n\"JHSF PART\",\n\"ON      NM\",\n{\n            'v': 288832602,\n            'f': \"288832602\",\n        },\n{\n            'v': 0.098,\n            'f': \"0.098\",\n        },\n{\n            'v': 0.753,\n            'f': \"0.753\",\n        }],\n [{\n            'v': 25,\n            'f': \"25\",\n        },\n\"Consumo C\\u00edclico/Constr Civil\",\n\"MRVE3\",\n\"MRV\",\n\"ON      NM\",\n{\n            'v': 293978672,\n            'f': \"293978672\",\n        },\n{\n            'v': 0.23,\n            'f': \"0.23\",\n        },\n{\n            'v': 0.753,\n            'f': \"0.753\",\n        }],\n [{\n            'v': 26,\n            'f': \"26\",\n        },\n\"Consumo C\\u00edclico/Viagens e Lazer\",\n\"CVCB3\",\n\"CVC BRASIL\",\n\"ON      NM\",\n{\n            'v': 200884562,\n            'f': \"200884562\",\n        },\n{\n            'v': 0.21899999999999997,\n            'f': \"0.21899999999999997\",\n        },\n{\n            'v': 0.21899999999999997,\n            'f': \"0.21899999999999997\",\n        }],\n [{\n            'v': 27,\n            'f': \"27\",\n        },\n\"Diversos\",\n\"COGN3\",\n\"COGNA ON\",\n\"ON      NM\",\n{\n            'v': 1847994874,\n            'f': \"1847994874\",\n        },\n{\n            'v': 0.33299999999999996,\n            'f': \"0.33299999999999996\",\n        },\n{\n            'v': 2.7310000000000003,\n            'f': \"2.7310000000000003\",\n        }],\n [{\n            'v': 28,\n            'f': \"28\",\n        },\n\"Diversos\",\n\"RENT3\",\n\"LOCALIZA\",\n\"ON      NM\",\n{\n            'v': 593841434,\n            'f': \"593841434\",\n        },\n{\n            'v': 1.597,\n            'f': \"1.597\",\n        },\n{\n            'v': 2.7310000000000003,\n            'f': \"2.7310000000000003\",\n        }],\n [{\n            'v': 29,\n            'f': \"29\",\n        },\n\"Diversos\",\n\"LCAM3\",\n\"LOCAMERICA\",\n\"ON      NM\",\n{\n            'v': 323763077,\n            'f': \"323763077\",\n        },\n{\n            'v': 0.364,\n            'f': \"0.364\",\n        },\n{\n            'v': 2.7310000000000003,\n            'f': \"2.7310000000000003\",\n        }],\n [{\n            'v': 30,\n            'f': \"30\",\n        },\n\"Diversos\",\n\"YDUQ3\",\n\"YDUQS PART\",\n\"ON      NM\",\n{\n            'v': 300483575,\n            'f': \"300483575\",\n        },\n{\n            'v': 0.43700000000000006,\n            'f': \"0.43700000000000006\",\n        },\n{\n            'v': 2.7310000000000003,\n            'f': \"2.7310000000000003\",\n        }],\n [{\n            'v': 31,\n            'f': \"31\",\n        },\n\"Financ e Outros / Explor Im\\u00f3veis\",\n\"BRML3\",\n\"BR MALLS PAR\",\n\"ON      NM\",\n{\n            'v': 843728684,\n            'f': \"843728684\",\n        },\n{\n            'v': 0.405,\n            'f': \"0.405\",\n        },\n{\n            'v': 0.8390000000000001,\n            'f': \"0.8390000000000001\",\n        }],\n [{\n            'v': 32,\n            'f': \"32\",\n        },\n\"Financ e Outros / Explor Im\\u00f3veis\",\n\"IGTA3\",\n\"IGUATEMI\",\n\"ON      NM\",\n{\n            'v': 85796919,\n            'f': \"85796919\",\n        },\n{\n            'v': 0.162,\n            'f': \"0.162\",\n        },\n{\n            'v': 0.8390000000000001,\n            'f': \"0.8390000000000001\",\n        }],\n [{\n            'v': 33,\n            'f': \"33\",\n        },\n\"Financ e Outros / Explor Im\\u00f3veis\",\n\"MULT3\",\n\"MULTIPLAN\",\n\"ON      N2\",\n{\n            'v': 245888754,\n            'f': \"245888754\",\n        },\n{\n            'v': 0.272,\n            'f': \"0.272\",\n        },\n{\n            'v': 0.8390000000000001,\n            'f': \"0.8390000000000001\",\n        }],\n [{\n            'v': 34,\n            'f': \"34\",\n        },\n\"Financ e Outros / Interms Financs\",\n\"BIDI11\",\n\"BANCO INTER\",\n\"UNT     N2\",\n{\n            'v': 78450313,\n            'f': \"78450313\",\n        },\n{\n            'v': 0.631,\n            'f': \"0.631\",\n        },\n{\n            'v': 18.991,\n            'f': \"18.991\",\n        }],\n [{\n            'v': 35,\n            'f': \"35\",\n        },\n\"Financ e Outros / Interms Financs\",\n\"BBDC3\",\n\"BRADESCO\",\n\"ON      N1\",\n{\n            'v': 1253093907,\n            'f': \"1253093907\",\n        },\n{\n            'v': 1.248,\n            'f': \"1.248\",\n        },\n{\n            'v': 18.991,\n            'f': \"18.991\",\n        }],\n [{\n            'v': 36,\n            'f': \"36\",\n        },\n\"Financ e Outros / Interms Financs\",\n\"BBDC4\",\n\"BRADESCO\",\n\"PN      N1\",\n{\n            'v': 4261649634,\n            'f': \"4261649634\",\n        },\n{\n            'v': 4.9030000000000005,\n            'f': \"4.9030000000000005\",\n        },\n{\n            'v': 18.991,\n            'f': \"18.991\",\n        }],\n [{\n            'v': 37,\n            'f': \"37\",\n        },\n\"Financ e Outros / Interms Financs\",\n\"BBAS3\",\n\"BRASIL\",\n\"ON      NM\",\n{\n            'v': 1283197221,\n            'f': \"1283197221\",\n        },\n{\n            'v': 1.8880000000000001,\n            'f': \"1.8880000000000001\",\n        },\n{\n            'v': 18.991,\n            'f': \"18.991\",\n        }],\n [{\n            'v': 38,\n            'f': \"38\",\n        },\n\"Financ e Outros / Interms Financs\",\n\"BPAC11\",\n\"BTGP BANCO\",\n\"UNT     N2\",\n{\n            'v': 236093794,\n            'f': \"236093794\",\n        },\n{\n            'v': 1.229,\n            'f': \"1.229\",\n        },\n{\n            'v': 18.991,\n            'f': \"18.991\",\n        }],\n [{\n            'v': 39,\n            'f': \"39\",\n        },\n\"Financ e Outros / Interms Financs\",\n\"ITSA4\",\n\"ITAUSA\",\n\"PN      N1\",\n{\n            'v': 4515538171,\n            'f': \"4515538171\",\n        },\n{\n            'v': 2.1830000000000003,\n            'f': \"2.1830000000000003\",\n        },\n{\n            'v': 18.991,\n            'f': \"18.991\",\n        }],\n [{\n            'v': 40,\n            'f': \"40\",\n        },\n\"Financ e Outros / Interms Financs\",\n\"ITUB4\",\n\"ITAUUNIBANCO\",\n\"PN      N1\",\n{\n            'v': 4770095054,\n            'f': \"4770095054\",\n        },\n{\n            'v': 6.252999999999999,\n            'f': \"6.252999999999999\",\n        },\n{\n            'v': 18.991,\n            'f': \"18.991\",\n        }],\n [{\n            'v': 41,\n            'f': \"41\",\n        },\n\"Financ e Outros / Interms Financs\",\n\"SANB11\",\n\"SANTANDER BR\",\n\"UNT\",\n{\n            'v': 355642348,\n            'f': \"355642348\",\n        },\n{\n            'v': 0.6559999999999999,\n            'f': \"0.6559999999999999\",\n        },\n{\n            'v': 18.991,\n            'f': \"18.991\",\n        }],\n [{\n            'v': 42,\n            'f': \"42\",\n        },\n\"Financ e Outros / Previd  Seguros\",\n\"BBSE3\",\n\"BBSEGURIDADE\",\n\"ON      NM\",\n{\n            'v': 671584841,\n            'f': \"671584841\",\n        },\n{\n            'v': 0.705,\n            'f': \"0.705\",\n        },\n{\n            'v': 1.455,\n            'f': \"1.455\",\n        }],\n [{\n            'v': 43,\n            'f': \"43\",\n        },\n\"Financ e Outros / Previd  Seguros\",\n\"IRBR3\",\n\"IRBBRASIL RE\",\n\"ON      NM\",\n{\n            'v': 1255286531,\n            'f': \"1255286531\",\n        },\n{\n            'v': 0.34299999999999997,\n            'f': \"0.34299999999999997\",\n        },\n{\n            'v': 1.455,\n            'f': \"1.455\",\n        }],\n [{\n            'v': 44,\n            'f': \"44\",\n        },\n\"Financ e Outros / Previd  Seguros\",\n\"SULA11\",\n\"SUL AMERICA\",\n\"UNT     N2\",\n{\n            'v': 284566116,\n            'f': \"284566116\",\n        },\n{\n            'v': 0.40700000000000003,\n            'f': \"0.40700000000000003\",\n        },\n{\n            'v': 1.455,\n            'f': \"1.455\",\n        }],\n [{\n            'v': 45,\n            'f': \"45\",\n        },\n\"Financeiro e Outros/Servi\\u00e7os Financeiros Diversos\",\n\"B3SA3\",\n\"B3\",\n\"ON  EB  NM\",\n{\n            'v': 6119434194,\n            'f': \"6119434194\",\n        },\n{\n            'v': 4.742,\n            'f': \"4.742\",\n        },\n{\n            'v': 4.937,\n            'f': \"4.937\",\n        }],\n [{\n            'v': 46,\n            'f': \"46\",\n        },\n\"Financeiro e Outros/Servi\\u00e7os Financeiros Diversos\",\n\"CIEL3\",\n\"CIELO\",\n\"ON      NM\",\n{\n            'v': 1112196638,\n            'f': \"1112196638\",\n        },\n{\n            'v': 0.195,\n            'f': \"0.195\",\n        },\n{\n            'v': 4.937,\n            'f': \"4.937\",\n        }],\n [{\n            'v': 47,\n            'f': \"47\",\n        },\n\"Mats B\\u00e1sicos / Madeira e Papel\",\n\"KLBN11\",\n\"KLABIN S/A\",\n\"UNT     N2\",\n{\n            'v': 922294338,\n            'f': \"922294338\",\n        },\n{\n            'v': 1.112,\n            'f': \"1.112\",\n        },\n{\n            'v': 3.263,\n            'f': \"3.263\",\n        }],\n [{\n            'v': 48,\n            'f': \"48\",\n        },\n\"Mats B\\u00e1sicos / Madeira e Papel\",\n\"SUZB3\",\n\"SUZANO S.A.\",\n\"ON      NM\",\n{\n            'v': 724921241,\n            'f': \"724921241\",\n        },\n{\n            'v': 2.151,\n            'f': \"2.151\",\n        },\n{\n            'v': 3.263,\n            'f': \"3.263\",\n        }],\n [{\n            'v': 49,\n            'f': \"49\",\n        },\n\"Mats B\\u00e1sicos / Minera\\u00e7\\u00e3o\",\n\"BRAP4\",\n\"BRADESPAR\",\n\"PN      N1\",\n{\n            'v': 222604507,\n            'f': \"222604507\",\n        },\n{\n            'v': 0.713,\n            'f': \"0.713\",\n        },\n{\n            'v': 13.123,\n            'f': \"13.123\",\n        }],\n [{\n            'v': 50,\n            'f': \"50\",\n        },\n\"Mats B\\u00e1sicos / Minera\\u00e7\\u00e3o\",\n\"VALE3\",\n\"VALE\",\n\"ON      NM\",\n{\n            'v': 2456887211,\n            'f': \"2456887211\",\n        },\n{\n            'v': 12.41,\n            'f': \"12.41\",\n        },\n{\n            'v': 13.123,\n            'f': \"13.123\",\n        }],\n [{\n            'v': 51,\n            'f': \"51\",\n        },\n\"Mats B\\u00e1sicos / Qu\\u00edmicos\",\n\"BRKM5\",\n\"BRASKEM\",\n\"PNA     N1\",\n{\n            'v': 264640575,\n            'f': \"264640575\",\n        },\n{\n            'v': 0.609,\n            'f': \"0.609\",\n        },\n{\n            'v': 0.609,\n            'f': \"0.609\",\n        }],\n [{\n            'v': 52,\n            'f': \"52\",\n        },\n\"Mats B\\u00e1sicos / Sid Metalurgia\",\n\"GGBR4\",\n\"GERDAU\",\n\"PN  ED  N1\",\n{\n            'v': 995903643,\n            'f': \"995903643\",\n        },\n{\n            'v': 1.59,\n            'f': \"1.59\",\n        },\n{\n            'v': 3.918,\n            'f': \"3.918\",\n        }],\n [{\n            'v': 53,\n            'f': \"53\",\n        },\n\"Mats B\\u00e1sicos / Sid Metalurgia\",\n\"GOAU4\",\n\"GERDAU MET\",\n\"PN  ED  N1\",\n{\n            'v': 693699918,\n            'f': \"693699918\",\n        },\n{\n            'v': 0.48700000000000004,\n            'f': \"0.48700000000000004\",\n        },\n{\n            'v': 3.918,\n            'f': \"3.918\",\n        }],\n [{\n            'v': 54,\n            'f': \"54\",\n        },\n\"Mats B\\u00e1sicos / Sid Metalurgia\",\n\"CSNA3\",\n\"SID NACIONAL\",\n\"ON\",\n{\n            'v': 642398790,\n            'f': \"642398790\",\n        },\n{\n            'v': 1.3659999999999999,\n            'f': \"1.3659999999999999\",\n        },\n{\n            'v': 3.918,\n            'f': \"3.918\",\n        }],\n [{\n            'v': 55,\n            'f': \"55\",\n        },\n\"Mats B\\u00e1sicos / Sid Metalurgia\",\n\"USIM5\",\n\"USIMINAS\",\n\"PNA     N1\",\n{\n            'v': 513796208,\n            'f': \"513796208\",\n        },\n{\n            'v': 0.475,\n            'f': \"0.475\",\n        },\n{\n            'v': 3.918,\n            'f': \"3.918\",\n        }],\n [{\n            'v': 56,\n            'f': \"56\",\n        },\n\"Petr\\u00f3leo/ G\\u00e1s e Biocombust\\u00edveis\",\n\"CSAN3\",\n\"COSAN\",\n\"ON      NM\",\n{\n            'v': 1169237744,\n            'f': \"1169237744\",\n        },\n{\n            'v': 1.177,\n            'f': \"1.177\",\n        },\n{\n            'v': 13.69,\n            'f': \"13.69\",\n        }],\n [{\n            'v': 57,\n            'f': \"57\",\n        },\n\"Petr\\u00f3leo/ G\\u00e1s e Biocombust\\u00edveis\",\n\"PETR3\",\n\"PETROBRAS\",\n\"ON      N2\",\n{\n            'v': 3620580434,\n            'f': \"3620580434\",\n        },\n{\n            'v': 4.158,\n            'f': \"4.158\",\n        },\n{\n            'v': 13.69,\n            'f': \"13.69\",\n        }],\n [{\n            'v': 58,\n            'f': \"58\",\n        },\n\"Petr\\u00f3leo/ G\\u00e1s e Biocombust\\u00edveis\",\n\"PETR4\",\n\"PETROBRAS\",\n\"PN      N2\",\n{\n            'v': 4566457037,\n            'f': \"4566457037\",\n        },\n{\n            'v': 5.372999999999999,\n            'f': \"5.372999999999999\",\n        },\n{\n            'v': 13.69,\n            'f': \"13.69\",\n        }],\n [{\n            'v': 59,\n            'f': \"59\",\n        },\n\"Petr\\u00f3leo/ G\\u00e1s e Biocombust\\u00edveis\",\n\"BRDT3\",\n\"PETROBRAS BR\",\n\"ON      NM\",\n{\n            'v': 1164958126,\n            'f': \"1164958126\",\n        },\n{\n            'v': 1.325,\n            'f': \"1.325\",\n        },\n{\n            'v': 13.69,\n            'f': \"13.69\",\n        }],\n [{\n            'v': 60,\n            'f': \"60\",\n        },\n\"Petr\\u00f3leo/ G\\u00e1s e Biocombust\\u00edveis\",\n\"PRIO3\",\n\"PETRORIO\",\n\"ON      NM\",\n{\n            'v': 807220415,\n            'f': \"807220415\",\n        },\n{\n            'v': 0.6629999999999999,\n            'f': \"0.6629999999999999\",\n        },\n{\n            'v': 13.69,\n            'f': \"13.69\",\n        }],\n [{\n            'v': 61,\n            'f': \"61\",\n        },\n\"Petr\\u00f3leo/ G\\u00e1s e Biocombust\\u00edveis\",\n\"UGPA3\",\n\"ULTRAPAR\",\n\"ON      NM\",\n{\n            'v': 1085987426,\n            'f': \"1085987426\",\n        },\n{\n            'v': 0.9940000000000001,\n            'f': \"0.9940000000000001\",\n        },\n{\n            'v': 13.69,\n            'f': \"13.69\",\n        }],\n [{\n            'v': 62,\n            'f': \"62\",\n        },\n\"Sa\\u00fade/Com\\u00e9rcio Distr.\",\n\"HYPE3\",\n\"HYPERA\",\n\"ON      NM\",\n{\n            'v': 410147968,\n            'f': \"410147968\",\n        },\n{\n            'v': 0.647,\n            'f': \"0.647\",\n        },\n{\n            'v': 1.9369999999999998,\n            'f': \"1.9369999999999998\",\n        }],\n [{\n            'v': 63,\n            'f': \"63\",\n        },\n\"Sa\\u00fade/Com\\u00e9rcio Distr.\",\n\"RADL3\",\n\"RAIADROGASIL\",\n\"ON      NM\",\n{\n            'v': 1072645150,\n            'f': \"1072645150\",\n        },\n{\n            'v': 1.29,\n            'f': \"1.29\",\n        },\n{\n            'v': 1.9369999999999998,\n            'f': \"1.9369999999999998\",\n        }],\n [{\n            'v': 64,\n            'f': \"64\",\n        },\n\"Sa\\u00fade/SM Hosp An.Diag\",\n\"FLRY3\",\n\"FLEURY\",\n\"ON      NM\",\n{\n            'v': 303800430,\n            'f': \"303800430\",\n        },\n{\n            'v': 0.369,\n            'f': \"0.369\",\n        },\n{\n            'v': 3.681,\n            'f': \"3.681\",\n        }],\n [{\n            'v': 65,\n            'f': \"65\",\n        },\n\"Sa\\u00fade/SM Hosp An.Diag\",\n\"HAPV3\",\n\"HAPVIDA\",\n\"ON      NM\",\n{\n            'v': 1265256490,\n            'f': \"1265256490\",\n        },\n{\n            'v': 0.8290000000000001,\n            'f': \"0.8290000000000001\",\n        },\n{\n            'v': 3.681,\n            'f': \"3.681\",\n        }],\n [{\n            'v': 66,\n            'f': \"66\",\n        },\n\"Sa\\u00fade/SM Hosp An.Diag\",\n\"GNDI3\",\n\"INTERMEDICA\",\n\"ON  ED  NM\",\n{\n            'v': 593438080,\n            'f': \"593438080\",\n        },\n{\n            'v': 2.144,\n            'f': \"2.144\",\n        },\n{\n            'v': 3.681,\n            'f': \"3.681\",\n        }],\n [{\n            'v': 67,\n            'f': \"67\",\n        },\n\"Sa\\u00fade/SM Hosp An.Diag\",\n\"QUAL3\",\n\"QUALICORP\",\n\"ON      NM\",\n{\n            'v': 283467789,\n            'f': \"283467789\",\n        },\n{\n            'v': 0.33899999999999997,\n            'f': \"0.33899999999999997\",\n        },\n{\n            'v': 3.681,\n            'f': \"3.681\",\n        }],\n [{\n            'v': 68,\n            'f': \"68\",\n        },\n\"Tec.Informa\\u00e7\\u00e3o/Programas Servs\",\n\"LWSA3\",\n\"LOCAWEB\",\n\"ON      NM\",\n{\n            'v': 427663748,\n            'f': \"427663748\",\n        },\n{\n            'v': 0.444,\n            'f': \"0.444\",\n        },\n{\n            'v': 1.105,\n            'f': \"1.105\",\n        }],\n [{\n            'v': 69,\n            'f': \"69\",\n        },\n\"Tec.Informa\\u00e7\\u00e3o/Programas Servs\",\n\"TOTS3\",\n\"TOTVS\",\n\"ON      NM\",\n{\n            'v': 480228410,\n            'f': \"480228410\",\n        },\n{\n            'v': 0.6609999999999999,\n            'f': \"0.6609999999999999\",\n        },\n{\n            'v': 1.105,\n            'f': \"1.105\",\n        }],\n [{\n            'v': 70,\n            'f': \"70\",\n        },\n\"Telecomunica\\u00e7\\u00e3o\",\n\"VIVT3\",\n\"TELEF BRASIL\",\n\"ON\",\n{\n            'v': 444219852,\n            'f': \"444219852\",\n        },\n{\n            'v': 0.879,\n            'f': \"0.879\",\n        },\n{\n            'v': 1.314,\n            'f': \"1.314\",\n        }],\n [{\n            'v': 71,\n            'f': \"71\",\n        },\n\"Telecomunica\\u00e7\\u00e3o\",\n\"TIMS3\",\n\"TIM\",\n\"ON      NM\",\n{\n            'v': 808485985,\n            'f': \"808485985\",\n        },\n{\n            'v': 0.435,\n            'f': \"0.435\",\n        },\n{\n            'v': 1.314,\n            'f': \"1.314\",\n        }],\n [{\n            'v': 72,\n            'f': \"72\",\n        },\n\"Utilidade P\\u00fabl / \\u00c1gua Saneamento\",\n\"SBSP3\",\n\"SABESP\",\n\"ON      NM\",\n{\n            'v': 339999111,\n            'f': \"339999111\",\n        },\n{\n            'v': 0.637,\n            'f': \"0.637\",\n        },\n{\n            'v': 0.637,\n            'f': \"0.637\",\n        }],\n [{\n            'v': 73,\n            'f': \"73\",\n        },\n\"Utilidade P\\u00fabl / Energ El\\u00e9trica\",\n\"CMIG4\",\n\"CEMIG\",\n\"PN      N1\",\n{\n            'v': 1081211185,\n            'f': \"1081211185\",\n        },\n{\n            'v': 0.6459999999999999,\n            'f': \"0.6459999999999999\",\n        },\n{\n            'v': 5.851,\n            'f': \"5.851\",\n        }],\n [{\n            'v': 74,\n            'f': \"74\",\n        },\n\"Utilidade P\\u00fabl / Energ El\\u00e9trica\",\n\"CPLE6\",\n\"COPEL\",\n\"PNB     N1\",\n{\n            'v': 570829074,\n            'f': \"570829074\",\n        },\n{\n            'v': 0.155,\n            'f': \"0.155\",\n        },\n{\n            'v': 5.851,\n            'f': \"5.851\",\n        }],\n [{\n            'v': 75,\n            'f': \"75\",\n        },\n\"Utilidade P\\u00fabl / Energ El\\u00e9trica\",\n\"CPFE3\",\n\"CPFL ENERGIA\",\n\"ON      NM\",\n{\n            'v': 187714249,\n            'f': \"187714249\",\n        },\n{\n            'v': 0.24100000000000002,\n            'f': \"0.24100000000000002\",\n        },\n{\n            'v': 5.851,\n            'f': \"5.851\",\n        }],\n [{\n            'v': 76,\n            'f': \"76\",\n        },\n\"Utilidade P\\u00fabl / Energ El\\u00e9trica\",\n\"ELET3\",\n\"ELETROBRAS\",\n\"ON      N1\",\n{\n            'v': 358018408,\n            'f': \"358018408\",\n        },\n{\n            'v': 0.685,\n            'f': \"0.685\",\n        },\n{\n            'v': 5.851,\n            'f': \"5.851\",\n        }],\n [{\n            'v': 77,\n            'f': \"77\",\n        },\n\"Utilidade P\\u00fabl / Energ El\\u00e9trica\",\n\"ELET6\",\n\"ELETROBRAS\",\n\"PNB     N1\",\n{\n            'v': 242977127,\n            'f': \"242977127\",\n        },\n{\n            'v': 0.46399999999999997,\n            'f': \"0.46399999999999997\",\n        },\n{\n            'v': 5.851,\n            'f': \"5.851\",\n        }],\n [{\n            'v': 78,\n            'f': \"78\",\n        },\n\"Utilidade P\\u00fabl / Energ El\\u00e9trica\",\n\"ENBR3\",\n\"ENERGIAS BR\",\n\"ON      NM\",\n{\n            'v': 231489471,\n            'f': \"231489471\",\n        },\n{\n            'v': 0.19399999999999998,\n            'f': \"0.19399999999999998\",\n        },\n{\n            'v': 5.851,\n            'f': \"5.851\",\n        }],\n [{\n            'v': 79,\n            'f': \"79\",\n        },\n\"Utilidade P\\u00fabl / Energ El\\u00e9trica\",\n\"ENGI11\",\n\"ENERGISA\",\n\"UNT     N2\",\n{\n            'v': 250679709,\n            'f': \"250679709\",\n        },\n{\n            'v': 0.513,\n            'f': \"0.513\",\n        },\n{\n            'v': 5.851,\n            'f': \"5.851\",\n        }],\n [{\n            'v': 80,\n            'f': \"80\",\n        },\n\"Utilidade P\\u00fabl / Energ El\\u00e9trica\",\n\"ENEV3\",\n\"ENEVA\",\n\"ON      NM\",\n{\n            'v': 1248545726,\n            'f': \"1248545726\",\n        },\n{\n            'v': 0.941,\n            'f': \"0.941\",\n        },\n{\n            'v': 5.851,\n            'f': \"5.851\",\n        }],\n [{\n            'v': 81,\n            'f': \"81\",\n        },\n\"Utilidade P\\u00fabl / Energ El\\u00e9trica\",\n\"EGIE3\",\n\"ENGIE BRASIL\",\n\"ON  ED  NM\",\n{\n            'v': 254792279,\n            'f': \"254792279\",\n        },\n{\n            'v': 0.461,\n            'f': \"0.461\",\n        },\n{\n            'v': 5.851,\n            'f': \"5.851\",\n        }],\n [{\n            'v': 82,\n            'f': \"82\",\n        },\n\"Utilidade P\\u00fabl / Energ El\\u00e9trica\",\n\"EQTL3\",\n\"EQUATORIAL\",\n\"ON      NM\",\n{\n            'v': 1010286085,\n            'f': \"1010286085\",\n        },\n{\n            'v': 1.166,\n            'f': \"1.166\",\n        },\n{\n            'v': 5.851,\n            'f': \"5.851\",\n        }],\n [{\n            'v': 83,\n            'f': \"83\",\n        },\n\"Utilidade P\\u00fabl / Energ El\\u00e9trica\",\n\"TAEE11\",\n\"TAESA\",\n\"UNT EDJ N2\",\n{\n            'v': 218568274,\n            'f': \"218568274\",\n        },\n{\n            'v': 0.385,\n            'f': \"0.385\",\n        },\n{\n            'v': 5.851,\n            'f': \"5.851\",\n        }]],\n        columns: [[\"number\", \"index\"], [\"string\", \"Setor\"], [\"string\", \"C\\u00f3digo\"], [\"string\", \"A\\u00e7\\u00e3o\"], [\"string\", \"Tipo\"], [\"number\", \"Qtde. Te\\u00f3rica\"], [\"number\", \"Part. (%)\"], [\"number\", \"Part. (%)Acum.\"]],\n        columnOptions: [{\"width\": \"1px\", \"className\": \"index_column\"}],\n        rowsPerPage: 25,\n        helpUrl: \"https://colab.research.google.com/notebooks/data_table.ipynb\",\n        suppressOutputScrolling: true,\n        minimumWidth: undefined,\n      });\n    ",
            "text/plain": [
              "<google.colab.data_table.DataTable object>"
            ],
            "text/html": [
              "<div>\n",
              "<style scoped>\n",
              "    .dataframe tbody tr th:only-of-type {\n",
              "        vertical-align: middle;\n",
              "    }\n",
              "\n",
              "    .dataframe tbody tr th {\n",
              "        vertical-align: top;\n",
              "    }\n",
              "\n",
              "    .dataframe thead th {\n",
              "        text-align: right;\n",
              "    }\n",
              "</style>\n",
              "<table border=\"1\" class=\"dataframe\">\n",
              "  <thead>\n",
              "    <tr style=\"text-align: right;\">\n",
              "      <th></th>\n",
              "      <th>Setor</th>\n",
              "      <th>Código</th>\n",
              "      <th>Ação</th>\n",
              "      <th>Tipo</th>\n",
              "      <th>Qtde. Teórica</th>\n",
              "      <th>Part. (%)</th>\n",
              "      <th>Part. (%)Acum.</th>\n",
              "    </tr>\n",
              "  </thead>\n",
              "  <tbody>\n",
              "    <tr>\n",
              "      <th>0</th>\n",
              "      <td>Bens Indls / Máqs e Equips</td>\n",
              "      <td>WEGE3</td>\n",
              "      <td>WEG</td>\n",
              "      <td>ON      NM</td>\n",
              "      <td>1482296002</td>\n",
              "      <td>2.108</td>\n",
              "      <td>2.108</td>\n",
              "    </tr>\n",
              "    <tr>\n",
              "      <th>1</th>\n",
              "      <td>Bens Indls / Mat Transporte</td>\n",
              "      <td>EMBR3</td>\n",
              "      <td>EMBRAER</td>\n",
              "      <td>ON      NM</td>\n",
              "      <td>736143105</td>\n",
              "      <td>0.526</td>\n",
              "      <td>0.526</td>\n",
              "    </tr>\n",
              "    <tr>\n",
              "      <th>2</th>\n",
              "      <td>Bens Indls/Transporte</td>\n",
              "      <td>AZUL4</td>\n",
              "      <td>AZUL</td>\n",
              "      <td>PN      N2</td>\n",
              "      <td>327262616</td>\n",
              "      <td>0.586</td>\n",
              "      <td>2.642</td>\n",
              "    </tr>\n",
              "    <tr>\n",
              "      <th>3</th>\n",
              "      <td>Bens Indls/Transporte</td>\n",
              "      <td>CCRO3</td>\n",
              "      <td>CCR SA</td>\n",
              "      <td>ON      NM</td>\n",
              "      <td>1115693556</td>\n",
              "      <td>0.692</td>\n",
              "      <td>2.642</td>\n",
              "    </tr>\n",
              "    <tr>\n",
              "      <th>4</th>\n",
              "      <td>Bens Indls/Transporte</td>\n",
              "      <td>ECOR3</td>\n",
              "      <td>ECORODOVIAS</td>\n",
              "      <td>ON      NM</td>\n",
              "      <td>172602770</td>\n",
              "      <td>0.094</td>\n",
              "      <td>2.642</td>\n",
              "    </tr>\n",
              "    <tr>\n",
              "      <th>...</th>\n",
              "      <td>...</td>\n",
              "      <td>...</td>\n",
              "      <td>...</td>\n",
              "      <td>...</td>\n",
              "      <td>...</td>\n",
              "      <td>...</td>\n",
              "      <td>...</td>\n",
              "    </tr>\n",
              "    <tr>\n",
              "      <th>79</th>\n",
              "      <td>Utilidade Públ / Energ Elétrica</td>\n",
              "      <td>ENGI11</td>\n",
              "      <td>ENERGISA</td>\n",
              "      <td>UNT     N2</td>\n",
              "      <td>250679709</td>\n",
              "      <td>0.513</td>\n",
              "      <td>5.851</td>\n",
              "    </tr>\n",
              "    <tr>\n",
              "      <th>80</th>\n",
              "      <td>Utilidade Públ / Energ Elétrica</td>\n",
              "      <td>ENEV3</td>\n",
              "      <td>ENEVA</td>\n",
              "      <td>ON      NM</td>\n",
              "      <td>1248545726</td>\n",
              "      <td>0.941</td>\n",
              "      <td>5.851</td>\n",
              "    </tr>\n",
              "    <tr>\n",
              "      <th>81</th>\n",
              "      <td>Utilidade Públ / Energ Elétrica</td>\n",
              "      <td>EGIE3</td>\n",
              "      <td>ENGIE BRASIL</td>\n",
              "      <td>ON  ED  NM</td>\n",
              "      <td>254792279</td>\n",
              "      <td>0.461</td>\n",
              "      <td>5.851</td>\n",
              "    </tr>\n",
              "    <tr>\n",
              "      <th>82</th>\n",
              "      <td>Utilidade Públ / Energ Elétrica</td>\n",
              "      <td>EQTL3</td>\n",
              "      <td>EQUATORIAL</td>\n",
              "      <td>ON      NM</td>\n",
              "      <td>1010286085</td>\n",
              "      <td>1.166</td>\n",
              "      <td>5.851</td>\n",
              "    </tr>\n",
              "    <tr>\n",
              "      <th>83</th>\n",
              "      <td>Utilidade Públ / Energ Elétrica</td>\n",
              "      <td>TAEE11</td>\n",
              "      <td>TAESA</td>\n",
              "      <td>UNT EDJ N2</td>\n",
              "      <td>218568274</td>\n",
              "      <td>0.385</td>\n",
              "      <td>5.851</td>\n",
              "    </tr>\n",
              "  </tbody>\n",
              "</table>\n",
              "<p>84 rows × 7 columns</p>\n",
              "</div>"
            ]
          },
          "metadata": {
            "tags": []
          },
          "execution_count": 5
        }
      ]
    },
    {
      "cell_type": "markdown",
      "metadata": {
        "id": "2V2h-V5CTJKL"
      },
      "source": [
        "# Tratando os Dados da Coluna 'Setores' e dividindo ela em duas, 'Setores' e 'SubSetores'\n",
        "\n",
        "Note que na coluna 'Setores' há duas informações, por exemplo: 'Bens Indls / Máqs e Equips', vamos dividir esta coluna em duas, criando então a coluna 'Setores' e 'SubSetores' e fazer um tratamento para melhorar a definição das palavras usadas."
      ]
    },
    {
      "cell_type": "code",
      "metadata": {
        "id": "M6QYrFuMEZLC"
      },
      "source": [
        "ibov['SubSetor'] = ibov['Setor'].apply(lambda s: s[s.rfind(\"/\")+1:].strip())\n",
        "ibov['Setor'] = ibov['Setor'].apply(lambda s: s[:s.rfind(\"/\")].strip())"
      ],
      "execution_count": 6,
      "outputs": []
    },
    {
      "cell_type": "markdown",
      "metadata": {
        "id": "DW-vXdpgEw8J"
      },
      "source": [
        "A seguir verificamos se há informações duplicadas porém apresentadas de formas diferentes"
      ]
    },
    {
      "cell_type": "code",
      "metadata": {
        "colab": {
          "base_uri": "https://localhost:8080/"
        },
        "id": "V-AoJWKjEm9U",
        "outputId": "a46bd523-555c-4ca8-b6f9-9844ca83efd1"
      },
      "source": [
        "ibov['Setor'].unique()"
      ],
      "execution_count": 7,
      "outputs": [
        {
          "output_type": "execute_result",
          "data": {
            "text/plain": [
              "array(['Bens Indls', 'Cons N  Básico', 'Cons N Cíclico',\n",
              "       'Consumo Cíclico', 'Diverso', 'Financ e Outros',\n",
              "       'Financeiro e Outros', 'Mats Básicos', 'Petróleo', 'Saúde',\n",
              "       'Tec.Informação', 'Telecomunicaçã', 'Utilidade Públ'], dtype=object)"
            ]
          },
          "metadata": {
            "tags": []
          },
          "execution_count": 7
        }
      ]
    },
    {
      "cell_type": "markdown",
      "metadata": {
        "id": "XDo2jOPoE1fS"
      },
      "source": [
        "Então definimos uma função para tratamento das informações desejadas:"
      ]
    },
    {
      "cell_type": "code",
      "metadata": {
        "id": "rmllzGPGE65Z"
      },
      "source": [
        "def conserta_setores(setor):\n",
        "  if setor == \"Bens Indls\": return \"Bens Industriais\"\n",
        "  if setor == \"Cons N  Básico\" or setor == \"Cons N Cíclico\": return \"Consumo Não-Cíclico\"\n",
        "  if setor == \"Financeiro e Outros\" or setor == \"Financ e Outros\": return \"Financeiro\"\n",
        "  if setor == \"Mats Básicos\": return \"Materiais Básicos\"\n",
        "  if setor == \"Telecomunicaçã\": return \"Telecomunicação\"\n",
        "  if setor == \"Utilidade Públ\": return \"Utilidade Pública\"\n",
        "  if setor == \"Diverso\": return \"Diversos\"\n",
        "  else: return setor"
      ],
      "execution_count": 8,
      "outputs": []
    },
    {
      "cell_type": "markdown",
      "metadata": {
        "id": "X2DAU5G7E-LE"
      },
      "source": [
        "E por fim atualizamos os valores com os dados já tratados, note que a coluna 'SubSetor' estará por último."
      ]
    },
    {
      "cell_type": "code",
      "metadata": {
        "colab": {
          "base_uri": "https://localhost:8080/",
          "height": 306
        },
        "id": "wm-1lpMyFCVk",
        "outputId": "40e75958-531a-49c3-855f-fdb554f2e13a"
      },
      "source": [
        "ibov['Setor'] = ibov['Setor'].apply(conserta_setores)\n",
        "DataTable(ibov)"
      ],
      "execution_count": 9,
      "outputs": [
        {
          "output_type": "execute_result",
          "data": {
            "application/vnd.google.colaboratory.module+javascript": "\n      import \"https://ssl.gstatic.com/colaboratory/data_table/a6224c040fa35dcf/data_table.js\";\n\n      window.createDataTable({\n        data: [[{\n            'v': 0,\n            'f': \"0\",\n        },\n\"Bens Industriais\",\n\"WEGE3\",\n\"WEG\",\n\"ON      NM\",\n{\n            'v': 1482296002,\n            'f': \"1482296002\",\n        },\n{\n            'v': 2.108,\n            'f': \"2.108\",\n        },\n{\n            'v': 2.108,\n            'f': \"2.108\",\n        },\n\"M\\u00e1qs e Equips\"],\n [{\n            'v': 1,\n            'f': \"1\",\n        },\n\"Bens Industriais\",\n\"EMBR3\",\n\"EMBRAER\",\n\"ON      NM\",\n{\n            'v': 736143105,\n            'f': \"736143105\",\n        },\n{\n            'v': 0.526,\n            'f': \"0.526\",\n        },\n{\n            'v': 0.526,\n            'f': \"0.526\",\n        },\n\"Mat Transporte\"],\n [{\n            'v': 2,\n            'f': \"2\",\n        },\n\"Bens Industriais\",\n\"AZUL4\",\n\"AZUL\",\n\"PN      N2\",\n{\n            'v': 327262616,\n            'f': \"327262616\",\n        },\n{\n            'v': 0.586,\n            'f': \"0.586\",\n        },\n{\n            'v': 2.642,\n            'f': \"2.642\",\n        },\n\"Transporte\"],\n [{\n            'v': 3,\n            'f': \"3\",\n        },\n\"Bens Industriais\",\n\"CCRO3\",\n\"CCR SA\",\n\"ON      NM\",\n{\n            'v': 1115693556,\n            'f': \"1115693556\",\n        },\n{\n            'v': 0.6920000000000001,\n            'f': \"0.6920000000000001\",\n        },\n{\n            'v': 2.642,\n            'f': \"2.642\",\n        },\n\"Transporte\"],\n [{\n            'v': 4,\n            'f': \"4\",\n        },\n\"Bens Industriais\",\n\"ECOR3\",\n\"ECORODOVIAS\",\n\"ON      NM\",\n{\n            'v': 172602770,\n            'f': \"172602770\",\n        },\n{\n            'v': 0.094,\n            'f': \"0.094\",\n        },\n{\n            'v': 2.642,\n            'f': \"2.642\",\n        },\n\"Transporte\"],\n [{\n            'v': 5,\n            'f': \"5\",\n        },\n\"Bens Industriais\",\n\"GOLL4\",\n\"GOL\",\n\"PN      N2\",\n{\n            'v': 139276933,\n            'f': \"139276933\",\n        },\n{\n            'v': 0.162,\n            'f': \"0.162\",\n        },\n{\n            'v': 2.642,\n            'f': \"2.642\",\n        },\n\"Transporte\"],\n [{\n            'v': 6,\n            'f': \"6\",\n        },\n\"Bens Industriais\",\n\"RAIL3\",\n\"RUMO S.A.\",\n\"ON      NM\",\n{\n            'v': 1218081171,\n            'f': \"1218081171\",\n        },\n{\n            'v': 1.1079999999999999,\n            'f': \"1.1079999999999999\",\n        },\n{\n            'v': 2.642,\n            'f': \"2.642\",\n        },\n\"Transporte\"],\n [{\n            'v': 7,\n            'f': \"7\",\n        },\n\"Consumo N\\u00e3o-C\\u00edclico\",\n\"BRFS3\",\n\"BRF SA\",\n\"ON      NM\",\n{\n            'v': 811759800,\n            'f': \"811759800\",\n        },\n{\n            'v': 0.805,\n            'f': \"0.805\",\n        },\n{\n            'v': 3.089,\n            'f': \"3.089\",\n        },\n\"Alimentos Processados\"],\n [{\n            'v': 8,\n            'f': \"8\",\n        },\n\"Consumo N\\u00e3o-C\\u00edclico\",\n\"JBSS3\",\n\"JBS\",\n\"ON      NM\",\n{\n            'v': 1388025890,\n            'f': \"1388025890\",\n        },\n{\n            'v': 1.867,\n            'f': \"1.867\",\n        },\n{\n            'v': 3.089,\n            'f': \"3.089\",\n        },\n\"Alimentos Processados\"],\n [{\n            'v': 9,\n            'f': \"9\",\n        },\n\"Consumo N\\u00e3o-C\\u00edclico\",\n\"MRFG3\",\n\"MARFRIG\",\n\"ON      NM\",\n{\n            'v': 368864634,\n            'f': \"368864634\",\n        },\n{\n            'v': 0.315,\n            'f': \"0.315\",\n        },\n{\n            'v': 3.089,\n            'f': \"3.089\",\n        },\n\"Alimentos Processados\"],\n [{\n            'v': 10,\n            'f': \"10\",\n        },\n\"Consumo N\\u00e3o-C\\u00edclico\",\n\"BEEF3\",\n\"MINERVA\",\n\"ON      NM\",\n{\n            'v': 240482896,\n            'f': \"240482896\",\n        },\n{\n            'v': 0.102,\n            'f': \"0.102\",\n        },\n{\n            'v': 3.089,\n            'f': \"3.089\",\n        },\n\"Alimentos Processados\"],\n [{\n            'v': 11,\n            'f': \"11\",\n        },\n\"Consumo N\\u00e3o-C\\u00edclico\",\n\"ABEV3\",\n\"AMBEV S/A\",\n\"ON\",\n{\n            'v': 4358542894,\n            'f': \"4358542894\",\n        },\n{\n            'v': 3.444,\n            'f': \"3.444\",\n        },\n{\n            'v': 3.444,\n            'f': \"3.444\",\n        },\n\"Bebidas\"],\n [{\n            'v': 12,\n            'f': \"12\",\n        },\n\"Consumo N\\u00e3o-C\\u00edclico\",\n\"ASAI3\",\n\"ASSAI\",\n\"ON      NM\",\n{\n            'v': 88180251,\n            'f': \"88180251\",\n        },\n{\n            'v': 0.32899999999999996,\n            'f': \"0.32899999999999996\",\n        },\n{\n            'v': 0.9359999999999999,\n            'f': \"0.9359999999999999\",\n        },\n\"Com\\u00e9rcio Distr.\"],\n [{\n            'v': 13,\n            'f': \"13\",\n        },\n\"Consumo N\\u00e3o-C\\u00edclico\",\n\"CRFB3\",\n\"CARREFOUR BR\",\n\"ON      NM\",\n{\n            'v': 391758726,\n            'f': \"391758726\",\n        },\n{\n            'v': 0.36,\n            'f': \"0.36\",\n        },\n{\n            'v': 0.9359999999999999,\n            'f': \"0.9359999999999999\",\n        },\n\"Com\\u00e9rcio Distr.\"],\n [{\n            'v': 14,\n            'f': \"14\",\n        },\n\"Consumo N\\u00e3o-C\\u00edclico\",\n\"PCAR3\",\n\"P.ACUCAR-CBD\",\n\"ON      NM\",\n{\n            'v': 156928631,\n            'f': \"156928631\",\n        },\n{\n            'v': 0.247,\n            'f': \"0.247\",\n        },\n{\n            'v': 0.9359999999999999,\n            'f': \"0.9359999999999999\",\n        },\n\"Com\\u00e9rcio Distr.\"],\n [{\n            'v': 15,\n            'f': \"15\",\n        },\n\"Consumo N\\u00e3o-C\\u00edclico\",\n\"NTCO3\",\n\"GRUPO NATURA\",\n\"ON      NM\",\n{\n            'v': 841433075,\n            'f': \"841433075\",\n        },\n{\n            'v': 1.9180000000000001,\n            'f': \"1.9180000000000001\",\n        },\n{\n            'v': 1.9180000000000001,\n            'f': \"1.9180000000000001\",\n        },\n\"Pr Pessoal Limp\"],\n [{\n            'v': 16,\n            'f': \"16\",\n        },\n\"Consumo C\\u00edclico\",\n\"BTOW3\",\n\"B2W DIGITAL\",\n\"ON      NM\",\n{\n            'v': 201802882,\n            'f': \"201802882\",\n        },\n{\n            'v': 0.514,\n            'f': \"0.514\",\n        },\n{\n            'v': 6.121,\n            'f': \"6.121\",\n        },\n\"Com\\u00e9rcio\"],\n [{\n            'v': 17,\n            'f': \"17\",\n        },\n\"Consumo C\\u00edclico\",\n\"LAME4\",\n\"LOJAS AMERIC\",\n\"PN      N1\",\n{\n            'v': 847010651,\n            'f': \"847010651\",\n        },\n{\n            'v': 0.726,\n            'f': \"0.726\",\n        },\n{\n            'v': 6.121,\n            'f': \"6.121\",\n        },\n\"Com\\u00e9rcio\"],\n [{\n            'v': 18,\n            'f': \"18\",\n        },\n\"Consumo C\\u00edclico\",\n\"LREN3\",\n\"LOJAS RENNER\",\n\"ON      NM\",\n{\n            'v': 887417914,\n            'f': \"887417914\",\n        },\n{\n            'v': 1.7719999999999998,\n            'f': \"1.7719999999999998\",\n        },\n{\n            'v': 6.121,\n            'f': \"6.121\",\n        },\n\"Com\\u00e9rcio\"],\n [{\n            'v': 19,\n            'f': \"19\",\n        },\n\"Consumo C\\u00edclico\",\n\"MGLU3\",\n\"MAGAZ LUIZA\",\n\"ON      NM\",\n{\n            'v': 2668955512,\n            'f': \"2668955512\",\n        },\n{\n            'v': 2.244,\n            'f': \"2.244\",\n        },\n{\n            'v': 6.121,\n            'f': \"6.121\",\n        },\n\"Com\\u00e9rcio\"],\n [{\n            'v': 20,\n            'f': \"20\",\n        },\n\"Consumo C\\u00edclico\",\n\"VVAR3\",\n\"VIAVAREJO\",\n\"ON      NM\",\n{\n            'v': 1595508601,\n            'f': \"1595508601\",\n        },\n{\n            'v': 0.865,\n            'f': \"0.865\",\n        },\n{\n            'v': 6.121,\n            'f': \"6.121\",\n        },\n\"Com\\u00e9rcio\"],\n [{\n            'v': 21,\n            'f': \"21\",\n        },\n\"Consumo C\\u00edclico\",\n\"HGTX3\",\n\"CIA HERING\",\n\"ON      NM\",\n{\n            'v': 126186408,\n            'f': \"126186408\",\n        },\n{\n            'v': 0.163,\n            'f': \"0.163\",\n        },\n{\n            'v': 0.163,\n            'f': \"0.163\",\n        },\n\"Tecid Vest Cal\\u00e7\"],\n [{\n            'v': 22,\n            'f': \"22\",\n        },\n\"Consumo C\\u00edclico\",\n\"CYRE3\",\n\"CYRELA REALT\",\n\"ON      NM\",\n{\n            'v': 281154098,\n            'f': \"281154098\",\n        },\n{\n            'v': 0.292,\n            'f': \"0.292\",\n        },\n{\n            'v': 0.753,\n            'f': \"0.753\",\n        },\n\"Constr Civil\"],\n [{\n            'v': 23,\n            'f': \"23\",\n        },\n\"Consumo C\\u00edclico\",\n\"EZTC3\",\n\"EZTEC\",\n\"ON      NM\",\n{\n            'v': 95756217,\n            'f': \"95756217\",\n        },\n{\n            'v': 0.133,\n            'f': \"0.133\",\n        },\n{\n            'v': 0.753,\n            'f': \"0.753\",\n        },\n\"Constr Civil\"],\n [{\n            'v': 24,\n            'f': \"24\",\n        },\n\"Consumo C\\u00edclico\",\n\"JHSF3\",\n\"JHSF PART\",\n\"ON      NM\",\n{\n            'v': 288832602,\n            'f': \"288832602\",\n        },\n{\n            'v': 0.098,\n            'f': \"0.098\",\n        },\n{\n            'v': 0.753,\n            'f': \"0.753\",\n        },\n\"Constr Civil\"],\n [{\n            'v': 25,\n            'f': \"25\",\n        },\n\"Consumo C\\u00edclico\",\n\"MRVE3\",\n\"MRV\",\n\"ON      NM\",\n{\n            'v': 293978672,\n            'f': \"293978672\",\n        },\n{\n            'v': 0.23,\n            'f': \"0.23\",\n        },\n{\n            'v': 0.753,\n            'f': \"0.753\",\n        },\n\"Constr Civil\"],\n [{\n            'v': 26,\n            'f': \"26\",\n        },\n\"Consumo C\\u00edclico\",\n\"CVCB3\",\n\"CVC BRASIL\",\n\"ON      NM\",\n{\n            'v': 200884562,\n            'f': \"200884562\",\n        },\n{\n            'v': 0.21899999999999997,\n            'f': \"0.21899999999999997\",\n        },\n{\n            'v': 0.21899999999999997,\n            'f': \"0.21899999999999997\",\n        },\n\"Viagens e Lazer\"],\n [{\n            'v': 27,\n            'f': \"27\",\n        },\n\"Diversos\",\n\"COGN3\",\n\"COGNA ON\",\n\"ON      NM\",\n{\n            'v': 1847994874,\n            'f': \"1847994874\",\n        },\n{\n            'v': 0.33299999999999996,\n            'f': \"0.33299999999999996\",\n        },\n{\n            'v': 2.7310000000000003,\n            'f': \"2.7310000000000003\",\n        },\n\"Diversos\"],\n [{\n            'v': 28,\n            'f': \"28\",\n        },\n\"Diversos\",\n\"RENT3\",\n\"LOCALIZA\",\n\"ON      NM\",\n{\n            'v': 593841434,\n            'f': \"593841434\",\n        },\n{\n            'v': 1.597,\n            'f': \"1.597\",\n        },\n{\n            'v': 2.7310000000000003,\n            'f': \"2.7310000000000003\",\n        },\n\"Diversos\"],\n [{\n            'v': 29,\n            'f': \"29\",\n        },\n\"Diversos\",\n\"LCAM3\",\n\"LOCAMERICA\",\n\"ON      NM\",\n{\n            'v': 323763077,\n            'f': \"323763077\",\n        },\n{\n            'v': 0.364,\n            'f': \"0.364\",\n        },\n{\n            'v': 2.7310000000000003,\n            'f': \"2.7310000000000003\",\n        },\n\"Diversos\"],\n [{\n            'v': 30,\n            'f': \"30\",\n        },\n\"Diversos\",\n\"YDUQ3\",\n\"YDUQS PART\",\n\"ON      NM\",\n{\n            'v': 300483575,\n            'f': \"300483575\",\n        },\n{\n            'v': 0.43700000000000006,\n            'f': \"0.43700000000000006\",\n        },\n{\n            'v': 2.7310000000000003,\n            'f': \"2.7310000000000003\",\n        },\n\"Diversos\"],\n [{\n            'v': 31,\n            'f': \"31\",\n        },\n\"Financeiro\",\n\"BRML3\",\n\"BR MALLS PAR\",\n\"ON      NM\",\n{\n            'v': 843728684,\n            'f': \"843728684\",\n        },\n{\n            'v': 0.405,\n            'f': \"0.405\",\n        },\n{\n            'v': 0.8390000000000001,\n            'f': \"0.8390000000000001\",\n        },\n\"Explor Im\\u00f3veis\"],\n [{\n            'v': 32,\n            'f': \"32\",\n        },\n\"Financeiro\",\n\"IGTA3\",\n\"IGUATEMI\",\n\"ON      NM\",\n{\n            'v': 85796919,\n            'f': \"85796919\",\n        },\n{\n            'v': 0.162,\n            'f': \"0.162\",\n        },\n{\n            'v': 0.8390000000000001,\n            'f': \"0.8390000000000001\",\n        },\n\"Explor Im\\u00f3veis\"],\n [{\n            'v': 33,\n            'f': \"33\",\n        },\n\"Financeiro\",\n\"MULT3\",\n\"MULTIPLAN\",\n\"ON      N2\",\n{\n            'v': 245888754,\n            'f': \"245888754\",\n        },\n{\n            'v': 0.272,\n            'f': \"0.272\",\n        },\n{\n            'v': 0.8390000000000001,\n            'f': \"0.8390000000000001\",\n        },\n\"Explor Im\\u00f3veis\"],\n [{\n            'v': 34,\n            'f': \"34\",\n        },\n\"Financeiro\",\n\"BIDI11\",\n\"BANCO INTER\",\n\"UNT     N2\",\n{\n            'v': 78450313,\n            'f': \"78450313\",\n        },\n{\n            'v': 0.631,\n            'f': \"0.631\",\n        },\n{\n            'v': 18.991,\n            'f': \"18.991\",\n        },\n\"Interms Financs\"],\n [{\n            'v': 35,\n            'f': \"35\",\n        },\n\"Financeiro\",\n\"BBDC3\",\n\"BRADESCO\",\n\"ON      N1\",\n{\n            'v': 1253093907,\n            'f': \"1253093907\",\n        },\n{\n            'v': 1.248,\n            'f': \"1.248\",\n        },\n{\n            'v': 18.991,\n            'f': \"18.991\",\n        },\n\"Interms Financs\"],\n [{\n            'v': 36,\n            'f': \"36\",\n        },\n\"Financeiro\",\n\"BBDC4\",\n\"BRADESCO\",\n\"PN      N1\",\n{\n            'v': 4261649634,\n            'f': \"4261649634\",\n        },\n{\n            'v': 4.9030000000000005,\n            'f': \"4.9030000000000005\",\n        },\n{\n            'v': 18.991,\n            'f': \"18.991\",\n        },\n\"Interms Financs\"],\n [{\n            'v': 37,\n            'f': \"37\",\n        },\n\"Financeiro\",\n\"BBAS3\",\n\"BRASIL\",\n\"ON      NM\",\n{\n            'v': 1283197221,\n            'f': \"1283197221\",\n        },\n{\n            'v': 1.8880000000000001,\n            'f': \"1.8880000000000001\",\n        },\n{\n            'v': 18.991,\n            'f': \"18.991\",\n        },\n\"Interms Financs\"],\n [{\n            'v': 38,\n            'f': \"38\",\n        },\n\"Financeiro\",\n\"BPAC11\",\n\"BTGP BANCO\",\n\"UNT     N2\",\n{\n            'v': 236093794,\n            'f': \"236093794\",\n        },\n{\n            'v': 1.229,\n            'f': \"1.229\",\n        },\n{\n            'v': 18.991,\n            'f': \"18.991\",\n        },\n\"Interms Financs\"],\n [{\n            'v': 39,\n            'f': \"39\",\n        },\n\"Financeiro\",\n\"ITSA4\",\n\"ITAUSA\",\n\"PN      N1\",\n{\n            'v': 4515538171,\n            'f': \"4515538171\",\n        },\n{\n            'v': 2.1830000000000003,\n            'f': \"2.1830000000000003\",\n        },\n{\n            'v': 18.991,\n            'f': \"18.991\",\n        },\n\"Interms Financs\"],\n [{\n            'v': 40,\n            'f': \"40\",\n        },\n\"Financeiro\",\n\"ITUB4\",\n\"ITAUUNIBANCO\",\n\"PN      N1\",\n{\n            'v': 4770095054,\n            'f': \"4770095054\",\n        },\n{\n            'v': 6.252999999999999,\n            'f': \"6.252999999999999\",\n        },\n{\n            'v': 18.991,\n            'f': \"18.991\",\n        },\n\"Interms Financs\"],\n [{\n            'v': 41,\n            'f': \"41\",\n        },\n\"Financeiro\",\n\"SANB11\",\n\"SANTANDER BR\",\n\"UNT\",\n{\n            'v': 355642348,\n            'f': \"355642348\",\n        },\n{\n            'v': 0.6559999999999999,\n            'f': \"0.6559999999999999\",\n        },\n{\n            'v': 18.991,\n            'f': \"18.991\",\n        },\n\"Interms Financs\"],\n [{\n            'v': 42,\n            'f': \"42\",\n        },\n\"Financeiro\",\n\"BBSE3\",\n\"BBSEGURIDADE\",\n\"ON      NM\",\n{\n            'v': 671584841,\n            'f': \"671584841\",\n        },\n{\n            'v': 0.705,\n            'f': \"0.705\",\n        },\n{\n            'v': 1.455,\n            'f': \"1.455\",\n        },\n\"Previd  Seguros\"],\n [{\n            'v': 43,\n            'f': \"43\",\n        },\n\"Financeiro\",\n\"IRBR3\",\n\"IRBBRASIL RE\",\n\"ON      NM\",\n{\n            'v': 1255286531,\n            'f': \"1255286531\",\n        },\n{\n            'v': 0.34299999999999997,\n            'f': \"0.34299999999999997\",\n        },\n{\n            'v': 1.455,\n            'f': \"1.455\",\n        },\n\"Previd  Seguros\"],\n [{\n            'v': 44,\n            'f': \"44\",\n        },\n\"Financeiro\",\n\"SULA11\",\n\"SUL AMERICA\",\n\"UNT     N2\",\n{\n            'v': 284566116,\n            'f': \"284566116\",\n        },\n{\n            'v': 0.40700000000000003,\n            'f': \"0.40700000000000003\",\n        },\n{\n            'v': 1.455,\n            'f': \"1.455\",\n        },\n\"Previd  Seguros\"],\n [{\n            'v': 45,\n            'f': \"45\",\n        },\n\"Financeiro\",\n\"B3SA3\",\n\"B3\",\n\"ON  EB  NM\",\n{\n            'v': 6119434194,\n            'f': \"6119434194\",\n        },\n{\n            'v': 4.742,\n            'f': \"4.742\",\n        },\n{\n            'v': 4.937,\n            'f': \"4.937\",\n        },\n\"Servi\\u00e7os Financeiros Diversos\"],\n [{\n            'v': 46,\n            'f': \"46\",\n        },\n\"Financeiro\",\n\"CIEL3\",\n\"CIELO\",\n\"ON      NM\",\n{\n            'v': 1112196638,\n            'f': \"1112196638\",\n        },\n{\n            'v': 0.195,\n            'f': \"0.195\",\n        },\n{\n            'v': 4.937,\n            'f': \"4.937\",\n        },\n\"Servi\\u00e7os Financeiros Diversos\"],\n [{\n            'v': 47,\n            'f': \"47\",\n        },\n\"Materiais B\\u00e1sicos\",\n\"KLBN11\",\n\"KLABIN S/A\",\n\"UNT     N2\",\n{\n            'v': 922294338,\n            'f': \"922294338\",\n        },\n{\n            'v': 1.112,\n            'f': \"1.112\",\n        },\n{\n            'v': 3.263,\n            'f': \"3.263\",\n        },\n\"Madeira e Papel\"],\n [{\n            'v': 48,\n            'f': \"48\",\n        },\n\"Materiais B\\u00e1sicos\",\n\"SUZB3\",\n\"SUZANO S.A.\",\n\"ON      NM\",\n{\n            'v': 724921241,\n            'f': \"724921241\",\n        },\n{\n            'v': 2.151,\n            'f': \"2.151\",\n        },\n{\n            'v': 3.263,\n            'f': \"3.263\",\n        },\n\"Madeira e Papel\"],\n [{\n            'v': 49,\n            'f': \"49\",\n        },\n\"Materiais B\\u00e1sicos\",\n\"BRAP4\",\n\"BRADESPAR\",\n\"PN      N1\",\n{\n            'v': 222604507,\n            'f': \"222604507\",\n        },\n{\n            'v': 0.713,\n            'f': \"0.713\",\n        },\n{\n            'v': 13.123,\n            'f': \"13.123\",\n        },\n\"Minera\\u00e7\\u00e3o\"],\n [{\n            'v': 50,\n            'f': \"50\",\n        },\n\"Materiais B\\u00e1sicos\",\n\"VALE3\",\n\"VALE\",\n\"ON      NM\",\n{\n            'v': 2456887211,\n            'f': \"2456887211\",\n        },\n{\n            'v': 12.41,\n            'f': \"12.41\",\n        },\n{\n            'v': 13.123,\n            'f': \"13.123\",\n        },\n\"Minera\\u00e7\\u00e3o\"],\n [{\n            'v': 51,\n            'f': \"51\",\n        },\n\"Materiais B\\u00e1sicos\",\n\"BRKM5\",\n\"BRASKEM\",\n\"PNA     N1\",\n{\n            'v': 264640575,\n            'f': \"264640575\",\n        },\n{\n            'v': 0.609,\n            'f': \"0.609\",\n        },\n{\n            'v': 0.609,\n            'f': \"0.609\",\n        },\n\"Qu\\u00edmicos\"],\n [{\n            'v': 52,\n            'f': \"52\",\n        },\n\"Materiais B\\u00e1sicos\",\n\"GGBR4\",\n\"GERDAU\",\n\"PN  ED  N1\",\n{\n            'v': 995903643,\n            'f': \"995903643\",\n        },\n{\n            'v': 1.59,\n            'f': \"1.59\",\n        },\n{\n            'v': 3.918,\n            'f': \"3.918\",\n        },\n\"Sid Metalurgia\"],\n [{\n            'v': 53,\n            'f': \"53\",\n        },\n\"Materiais B\\u00e1sicos\",\n\"GOAU4\",\n\"GERDAU MET\",\n\"PN  ED  N1\",\n{\n            'v': 693699918,\n            'f': \"693699918\",\n        },\n{\n            'v': 0.48700000000000004,\n            'f': \"0.48700000000000004\",\n        },\n{\n            'v': 3.918,\n            'f': \"3.918\",\n        },\n\"Sid Metalurgia\"],\n [{\n            'v': 54,\n            'f': \"54\",\n        },\n\"Materiais B\\u00e1sicos\",\n\"CSNA3\",\n\"SID NACIONAL\",\n\"ON\",\n{\n            'v': 642398790,\n            'f': \"642398790\",\n        },\n{\n            'v': 1.3659999999999999,\n            'f': \"1.3659999999999999\",\n        },\n{\n            'v': 3.918,\n            'f': \"3.918\",\n        },\n\"Sid Metalurgia\"],\n [{\n            'v': 55,\n            'f': \"55\",\n        },\n\"Materiais B\\u00e1sicos\",\n\"USIM5\",\n\"USIMINAS\",\n\"PNA     N1\",\n{\n            'v': 513796208,\n            'f': \"513796208\",\n        },\n{\n            'v': 0.475,\n            'f': \"0.475\",\n        },\n{\n            'v': 3.918,\n            'f': \"3.918\",\n        },\n\"Sid Metalurgia\"],\n [{\n            'v': 56,\n            'f': \"56\",\n        },\n\"Petr\\u00f3leo\",\n\"CSAN3\",\n\"COSAN\",\n\"ON      NM\",\n{\n            'v': 1169237744,\n            'f': \"1169237744\",\n        },\n{\n            'v': 1.177,\n            'f': \"1.177\",\n        },\n{\n            'v': 13.69,\n            'f': \"13.69\",\n        },\n\"G\\u00e1s e Biocombust\\u00edveis\"],\n [{\n            'v': 57,\n            'f': \"57\",\n        },\n\"Petr\\u00f3leo\",\n\"PETR3\",\n\"PETROBRAS\",\n\"ON      N2\",\n{\n            'v': 3620580434,\n            'f': \"3620580434\",\n        },\n{\n            'v': 4.158,\n            'f': \"4.158\",\n        },\n{\n            'v': 13.69,\n            'f': \"13.69\",\n        },\n\"G\\u00e1s e Biocombust\\u00edveis\"],\n [{\n            'v': 58,\n            'f': \"58\",\n        },\n\"Petr\\u00f3leo\",\n\"PETR4\",\n\"PETROBRAS\",\n\"PN      N2\",\n{\n            'v': 4566457037,\n            'f': \"4566457037\",\n        },\n{\n            'v': 5.372999999999999,\n            'f': \"5.372999999999999\",\n        },\n{\n            'v': 13.69,\n            'f': \"13.69\",\n        },\n\"G\\u00e1s e Biocombust\\u00edveis\"],\n [{\n            'v': 59,\n            'f': \"59\",\n        },\n\"Petr\\u00f3leo\",\n\"BRDT3\",\n\"PETROBRAS BR\",\n\"ON      NM\",\n{\n            'v': 1164958126,\n            'f': \"1164958126\",\n        },\n{\n            'v': 1.325,\n            'f': \"1.325\",\n        },\n{\n            'v': 13.69,\n            'f': \"13.69\",\n        },\n\"G\\u00e1s e Biocombust\\u00edveis\"],\n [{\n            'v': 60,\n            'f': \"60\",\n        },\n\"Petr\\u00f3leo\",\n\"PRIO3\",\n\"PETRORIO\",\n\"ON      NM\",\n{\n            'v': 807220415,\n            'f': \"807220415\",\n        },\n{\n            'v': 0.6629999999999999,\n            'f': \"0.6629999999999999\",\n        },\n{\n            'v': 13.69,\n            'f': \"13.69\",\n        },\n\"G\\u00e1s e Biocombust\\u00edveis\"],\n [{\n            'v': 61,\n            'f': \"61\",\n        },\n\"Petr\\u00f3leo\",\n\"UGPA3\",\n\"ULTRAPAR\",\n\"ON      NM\",\n{\n            'v': 1085987426,\n            'f': \"1085987426\",\n        },\n{\n            'v': 0.9940000000000001,\n            'f': \"0.9940000000000001\",\n        },\n{\n            'v': 13.69,\n            'f': \"13.69\",\n        },\n\"G\\u00e1s e Biocombust\\u00edveis\"],\n [{\n            'v': 62,\n            'f': \"62\",\n        },\n\"Sa\\u00fade\",\n\"HYPE3\",\n\"HYPERA\",\n\"ON      NM\",\n{\n            'v': 410147968,\n            'f': \"410147968\",\n        },\n{\n            'v': 0.647,\n            'f': \"0.647\",\n        },\n{\n            'v': 1.9369999999999998,\n            'f': \"1.9369999999999998\",\n        },\n\"Com\\u00e9rcio Distr.\"],\n [{\n            'v': 63,\n            'f': \"63\",\n        },\n\"Sa\\u00fade\",\n\"RADL3\",\n\"RAIADROGASIL\",\n\"ON      NM\",\n{\n            'v': 1072645150,\n            'f': \"1072645150\",\n        },\n{\n            'v': 1.29,\n            'f': \"1.29\",\n        },\n{\n            'v': 1.9369999999999998,\n            'f': \"1.9369999999999998\",\n        },\n\"Com\\u00e9rcio Distr.\"],\n [{\n            'v': 64,\n            'f': \"64\",\n        },\n\"Sa\\u00fade\",\n\"FLRY3\",\n\"FLEURY\",\n\"ON      NM\",\n{\n            'v': 303800430,\n            'f': \"303800430\",\n        },\n{\n            'v': 0.369,\n            'f': \"0.369\",\n        },\n{\n            'v': 3.681,\n            'f': \"3.681\",\n        },\n\"SM Hosp An.Diag\"],\n [{\n            'v': 65,\n            'f': \"65\",\n        },\n\"Sa\\u00fade\",\n\"HAPV3\",\n\"HAPVIDA\",\n\"ON      NM\",\n{\n            'v': 1265256490,\n            'f': \"1265256490\",\n        },\n{\n            'v': 0.8290000000000001,\n            'f': \"0.8290000000000001\",\n        },\n{\n            'v': 3.681,\n            'f': \"3.681\",\n        },\n\"SM Hosp An.Diag\"],\n [{\n            'v': 66,\n            'f': \"66\",\n        },\n\"Sa\\u00fade\",\n\"GNDI3\",\n\"INTERMEDICA\",\n\"ON  ED  NM\",\n{\n            'v': 593438080,\n            'f': \"593438080\",\n        },\n{\n            'v': 2.144,\n            'f': \"2.144\",\n        },\n{\n            'v': 3.681,\n            'f': \"3.681\",\n        },\n\"SM Hosp An.Diag\"],\n [{\n            'v': 67,\n            'f': \"67\",\n        },\n\"Sa\\u00fade\",\n\"QUAL3\",\n\"QUALICORP\",\n\"ON      NM\",\n{\n            'v': 283467789,\n            'f': \"283467789\",\n        },\n{\n            'v': 0.33899999999999997,\n            'f': \"0.33899999999999997\",\n        },\n{\n            'v': 3.681,\n            'f': \"3.681\",\n        },\n\"SM Hosp An.Diag\"],\n [{\n            'v': 68,\n            'f': \"68\",\n        },\n\"Tec.Informa\\u00e7\\u00e3o\",\n\"LWSA3\",\n\"LOCAWEB\",\n\"ON      NM\",\n{\n            'v': 427663748,\n            'f': \"427663748\",\n        },\n{\n            'v': 0.444,\n            'f': \"0.444\",\n        },\n{\n            'v': 1.105,\n            'f': \"1.105\",\n        },\n\"Programas Servs\"],\n [{\n            'v': 69,\n            'f': \"69\",\n        },\n\"Tec.Informa\\u00e7\\u00e3o\",\n\"TOTS3\",\n\"TOTVS\",\n\"ON      NM\",\n{\n            'v': 480228410,\n            'f': \"480228410\",\n        },\n{\n            'v': 0.6609999999999999,\n            'f': \"0.6609999999999999\",\n        },\n{\n            'v': 1.105,\n            'f': \"1.105\",\n        },\n\"Programas Servs\"],\n [{\n            'v': 70,\n            'f': \"70\",\n        },\n\"Telecomunica\\u00e7\\u00e3o\",\n\"VIVT3\",\n\"TELEF BRASIL\",\n\"ON\",\n{\n            'v': 444219852,\n            'f': \"444219852\",\n        },\n{\n            'v': 0.879,\n            'f': \"0.879\",\n        },\n{\n            'v': 1.314,\n            'f': \"1.314\",\n        },\n\"Telecomunica\\u00e7\\u00e3o\"],\n [{\n            'v': 71,\n            'f': \"71\",\n        },\n\"Telecomunica\\u00e7\\u00e3o\",\n\"TIMS3\",\n\"TIM\",\n\"ON      NM\",\n{\n            'v': 808485985,\n            'f': \"808485985\",\n        },\n{\n            'v': 0.435,\n            'f': \"0.435\",\n        },\n{\n            'v': 1.314,\n            'f': \"1.314\",\n        },\n\"Telecomunica\\u00e7\\u00e3o\"],\n [{\n            'v': 72,\n            'f': \"72\",\n        },\n\"Utilidade P\\u00fablica\",\n\"SBSP3\",\n\"SABESP\",\n\"ON      NM\",\n{\n            'v': 339999111,\n            'f': \"339999111\",\n        },\n{\n            'v': 0.637,\n            'f': \"0.637\",\n        },\n{\n            'v': 0.637,\n            'f': \"0.637\",\n        },\n\"\\u00c1gua Saneamento\"],\n [{\n            'v': 73,\n            'f': \"73\",\n        },\n\"Utilidade P\\u00fablica\",\n\"CMIG4\",\n\"CEMIG\",\n\"PN      N1\",\n{\n            'v': 1081211185,\n            'f': \"1081211185\",\n        },\n{\n            'v': 0.6459999999999999,\n            'f': \"0.6459999999999999\",\n        },\n{\n            'v': 5.851,\n            'f': \"5.851\",\n        },\n\"Energ El\\u00e9trica\"],\n [{\n            'v': 74,\n            'f': \"74\",\n        },\n\"Utilidade P\\u00fablica\",\n\"CPLE6\",\n\"COPEL\",\n\"PNB     N1\",\n{\n            'v': 570829074,\n            'f': \"570829074\",\n        },\n{\n            'v': 0.155,\n            'f': \"0.155\",\n        },\n{\n            'v': 5.851,\n            'f': \"5.851\",\n        },\n\"Energ El\\u00e9trica\"],\n [{\n            'v': 75,\n            'f': \"75\",\n        },\n\"Utilidade P\\u00fablica\",\n\"CPFE3\",\n\"CPFL ENERGIA\",\n\"ON      NM\",\n{\n            'v': 187714249,\n            'f': \"187714249\",\n        },\n{\n            'v': 0.24100000000000002,\n            'f': \"0.24100000000000002\",\n        },\n{\n            'v': 5.851,\n            'f': \"5.851\",\n        },\n\"Energ El\\u00e9trica\"],\n [{\n            'v': 76,\n            'f': \"76\",\n        },\n\"Utilidade P\\u00fablica\",\n\"ELET3\",\n\"ELETROBRAS\",\n\"ON      N1\",\n{\n            'v': 358018408,\n            'f': \"358018408\",\n        },\n{\n            'v': 0.685,\n            'f': \"0.685\",\n        },\n{\n            'v': 5.851,\n            'f': \"5.851\",\n        },\n\"Energ El\\u00e9trica\"],\n [{\n            'v': 77,\n            'f': \"77\",\n        },\n\"Utilidade P\\u00fablica\",\n\"ELET6\",\n\"ELETROBRAS\",\n\"PNB     N1\",\n{\n            'v': 242977127,\n            'f': \"242977127\",\n        },\n{\n            'v': 0.46399999999999997,\n            'f': \"0.46399999999999997\",\n        },\n{\n            'v': 5.851,\n            'f': \"5.851\",\n        },\n\"Energ El\\u00e9trica\"],\n [{\n            'v': 78,\n            'f': \"78\",\n        },\n\"Utilidade P\\u00fablica\",\n\"ENBR3\",\n\"ENERGIAS BR\",\n\"ON      NM\",\n{\n            'v': 231489471,\n            'f': \"231489471\",\n        },\n{\n            'v': 0.19399999999999998,\n            'f': \"0.19399999999999998\",\n        },\n{\n            'v': 5.851,\n            'f': \"5.851\",\n        },\n\"Energ El\\u00e9trica\"],\n [{\n            'v': 79,\n            'f': \"79\",\n        },\n\"Utilidade P\\u00fablica\",\n\"ENGI11\",\n\"ENERGISA\",\n\"UNT     N2\",\n{\n            'v': 250679709,\n            'f': \"250679709\",\n        },\n{\n            'v': 0.513,\n            'f': \"0.513\",\n        },\n{\n            'v': 5.851,\n            'f': \"5.851\",\n        },\n\"Energ El\\u00e9trica\"],\n [{\n            'v': 80,\n            'f': \"80\",\n        },\n\"Utilidade P\\u00fablica\",\n\"ENEV3\",\n\"ENEVA\",\n\"ON      NM\",\n{\n            'v': 1248545726,\n            'f': \"1248545726\",\n        },\n{\n            'v': 0.941,\n            'f': \"0.941\",\n        },\n{\n            'v': 5.851,\n            'f': \"5.851\",\n        },\n\"Energ El\\u00e9trica\"],\n [{\n            'v': 81,\n            'f': \"81\",\n        },\n\"Utilidade P\\u00fablica\",\n\"EGIE3\",\n\"ENGIE BRASIL\",\n\"ON  ED  NM\",\n{\n            'v': 254792279,\n            'f': \"254792279\",\n        },\n{\n            'v': 0.461,\n            'f': \"0.461\",\n        },\n{\n            'v': 5.851,\n            'f': \"5.851\",\n        },\n\"Energ El\\u00e9trica\"],\n [{\n            'v': 82,\n            'f': \"82\",\n        },\n\"Utilidade P\\u00fablica\",\n\"EQTL3\",\n\"EQUATORIAL\",\n\"ON      NM\",\n{\n            'v': 1010286085,\n            'f': \"1010286085\",\n        },\n{\n            'v': 1.166,\n            'f': \"1.166\",\n        },\n{\n            'v': 5.851,\n            'f': \"5.851\",\n        },\n\"Energ El\\u00e9trica\"],\n [{\n            'v': 83,\n            'f': \"83\",\n        },\n\"Utilidade P\\u00fablica\",\n\"TAEE11\",\n\"TAESA\",\n\"UNT EDJ N2\",\n{\n            'v': 218568274,\n            'f': \"218568274\",\n        },\n{\n            'v': 0.385,\n            'f': \"0.385\",\n        },\n{\n            'v': 5.851,\n            'f': \"5.851\",\n        },\n\"Energ El\\u00e9trica\"]],\n        columns: [[\"number\", \"index\"], [\"string\", \"Setor\"], [\"string\", \"C\\u00f3digo\"], [\"string\", \"A\\u00e7\\u00e3o\"], [\"string\", \"Tipo\"], [\"number\", \"Qtde. Te\\u00f3rica\"], [\"number\", \"Part. (%)\"], [\"number\", \"Part. (%)Acum.\"], [\"string\", \"SubSetor\"]],\n        columnOptions: [{\"width\": \"1px\", \"className\": \"index_column\"}],\n        rowsPerPage: 25,\n        helpUrl: \"https://colab.research.google.com/notebooks/data_table.ipynb\",\n        suppressOutputScrolling: true,\n        minimumWidth: undefined,\n      });\n    ",
            "text/plain": [
              "<google.colab.data_table.DataTable object>"
            ],
            "text/html": [
              "<div>\n",
              "<style scoped>\n",
              "    .dataframe tbody tr th:only-of-type {\n",
              "        vertical-align: middle;\n",
              "    }\n",
              "\n",
              "    .dataframe tbody tr th {\n",
              "        vertical-align: top;\n",
              "    }\n",
              "\n",
              "    .dataframe thead th {\n",
              "        text-align: right;\n",
              "    }\n",
              "</style>\n",
              "<table border=\"1\" class=\"dataframe\">\n",
              "  <thead>\n",
              "    <tr style=\"text-align: right;\">\n",
              "      <th></th>\n",
              "      <th>Setor</th>\n",
              "      <th>Código</th>\n",
              "      <th>Ação</th>\n",
              "      <th>Tipo</th>\n",
              "      <th>Qtde. Teórica</th>\n",
              "      <th>Part. (%)</th>\n",
              "      <th>Part. (%)Acum.</th>\n",
              "      <th>SubSetor</th>\n",
              "    </tr>\n",
              "  </thead>\n",
              "  <tbody>\n",
              "    <tr>\n",
              "      <th>0</th>\n",
              "      <td>Bens Industriais</td>\n",
              "      <td>WEGE3</td>\n",
              "      <td>WEG</td>\n",
              "      <td>ON      NM</td>\n",
              "      <td>1482296002</td>\n",
              "      <td>2.108</td>\n",
              "      <td>2.108</td>\n",
              "      <td>Máqs e Equips</td>\n",
              "    </tr>\n",
              "    <tr>\n",
              "      <th>1</th>\n",
              "      <td>Bens Industriais</td>\n",
              "      <td>EMBR3</td>\n",
              "      <td>EMBRAER</td>\n",
              "      <td>ON      NM</td>\n",
              "      <td>736143105</td>\n",
              "      <td>0.526</td>\n",
              "      <td>0.526</td>\n",
              "      <td>Mat Transporte</td>\n",
              "    </tr>\n",
              "    <tr>\n",
              "      <th>2</th>\n",
              "      <td>Bens Industriais</td>\n",
              "      <td>AZUL4</td>\n",
              "      <td>AZUL</td>\n",
              "      <td>PN      N2</td>\n",
              "      <td>327262616</td>\n",
              "      <td>0.586</td>\n",
              "      <td>2.642</td>\n",
              "      <td>Transporte</td>\n",
              "    </tr>\n",
              "    <tr>\n",
              "      <th>3</th>\n",
              "      <td>Bens Industriais</td>\n",
              "      <td>CCRO3</td>\n",
              "      <td>CCR SA</td>\n",
              "      <td>ON      NM</td>\n",
              "      <td>1115693556</td>\n",
              "      <td>0.692</td>\n",
              "      <td>2.642</td>\n",
              "      <td>Transporte</td>\n",
              "    </tr>\n",
              "    <tr>\n",
              "      <th>4</th>\n",
              "      <td>Bens Industriais</td>\n",
              "      <td>ECOR3</td>\n",
              "      <td>ECORODOVIAS</td>\n",
              "      <td>ON      NM</td>\n",
              "      <td>172602770</td>\n",
              "      <td>0.094</td>\n",
              "      <td>2.642</td>\n",
              "      <td>Transporte</td>\n",
              "    </tr>\n",
              "    <tr>\n",
              "      <th>...</th>\n",
              "      <td>...</td>\n",
              "      <td>...</td>\n",
              "      <td>...</td>\n",
              "      <td>...</td>\n",
              "      <td>...</td>\n",
              "      <td>...</td>\n",
              "      <td>...</td>\n",
              "      <td>...</td>\n",
              "    </tr>\n",
              "    <tr>\n",
              "      <th>79</th>\n",
              "      <td>Utilidade Pública</td>\n",
              "      <td>ENGI11</td>\n",
              "      <td>ENERGISA</td>\n",
              "      <td>UNT     N2</td>\n",
              "      <td>250679709</td>\n",
              "      <td>0.513</td>\n",
              "      <td>5.851</td>\n",
              "      <td>Energ Elétrica</td>\n",
              "    </tr>\n",
              "    <tr>\n",
              "      <th>80</th>\n",
              "      <td>Utilidade Pública</td>\n",
              "      <td>ENEV3</td>\n",
              "      <td>ENEVA</td>\n",
              "      <td>ON      NM</td>\n",
              "      <td>1248545726</td>\n",
              "      <td>0.941</td>\n",
              "      <td>5.851</td>\n",
              "      <td>Energ Elétrica</td>\n",
              "    </tr>\n",
              "    <tr>\n",
              "      <th>81</th>\n",
              "      <td>Utilidade Pública</td>\n",
              "      <td>EGIE3</td>\n",
              "      <td>ENGIE BRASIL</td>\n",
              "      <td>ON  ED  NM</td>\n",
              "      <td>254792279</td>\n",
              "      <td>0.461</td>\n",
              "      <td>5.851</td>\n",
              "      <td>Energ Elétrica</td>\n",
              "    </tr>\n",
              "    <tr>\n",
              "      <th>82</th>\n",
              "      <td>Utilidade Pública</td>\n",
              "      <td>EQTL3</td>\n",
              "      <td>EQUATORIAL</td>\n",
              "      <td>ON      NM</td>\n",
              "      <td>1010286085</td>\n",
              "      <td>1.166</td>\n",
              "      <td>5.851</td>\n",
              "      <td>Energ Elétrica</td>\n",
              "    </tr>\n",
              "    <tr>\n",
              "      <th>83</th>\n",
              "      <td>Utilidade Pública</td>\n",
              "      <td>TAEE11</td>\n",
              "      <td>TAESA</td>\n",
              "      <td>UNT EDJ N2</td>\n",
              "      <td>218568274</td>\n",
              "      <td>0.385</td>\n",
              "      <td>5.851</td>\n",
              "      <td>Energ Elétrica</td>\n",
              "    </tr>\n",
              "  </tbody>\n",
              "</table>\n",
              "<p>84 rows × 8 columns</p>\n",
              "</div>"
            ]
          },
          "metadata": {
            "tags": []
          },
          "execution_count": 9
        }
      ]
    },
    {
      "cell_type": "markdown",
      "metadata": {
        "id": "g_h4w-DRGCtM"
      },
      "source": [
        "# Gerando o Gráfico Sunburst\n",
        "\n",
        "Por fim, criaremos o gráfico do tipo Sunburst, utilizando a biblioteca Plotly."
      ]
    },
    {
      "cell_type": "code",
      "metadata": {
        "colab": {
          "base_uri": "https://localhost:8080/"
        },
        "id": "_w3UYCYbXxm5",
        "outputId": "b180d91d-12ff-4dcf-f6b7-a49b4b64d547"
      },
      "source": [
        "!pip install -U plotly"
      ],
      "execution_count": 12,
      "outputs": [
        {
          "output_type": "stream",
          "text": [
            "Requirement already up-to-date: plotly in /usr/local/lib/python3.7/dist-packages (4.14.3)\n",
            "Requirement already satisfied, skipping upgrade: six in /usr/local/lib/python3.7/dist-packages (from plotly) (1.15.0)\n",
            "Requirement already satisfied, skipping upgrade: retrying>=1.3.3 in /usr/local/lib/python3.7/dist-packages (from plotly) (1.3.3)\n"
          ],
          "name": "stdout"
        }
      ]
    },
    {
      "cell_type": "code",
      "metadata": {
        "id": "byvUykKyYCxa"
      },
      "source": [
        "import plotly.express as px"
      ],
      "execution_count": 13,
      "outputs": []
    },
    {
      "cell_type": "code",
      "metadata": {
        "colab": {
          "base_uri": "https://localhost:8080/",
          "height": 567
        },
        "id": "s2o1I8aCYLId",
        "outputId": "8aa4d538-f77a-4a08-deff-8838bac281cc"
      },
      "source": [
        "grafico = px.sunburst(data_frame=ibov, path=['Setor', 'SubSetor', 'Código'], values='Part. (%)', height=550)\n",
        "\n",
        "grafico.update_traces(textfont_color='white',\n",
        "                      textfont_size=14,\n",
        "                      hovertemplate='<b>%{label}:</b> %{value:.2f}%')\n",
        "\n",
        "grafico.show()"
      ],
      "execution_count": 15,
      "outputs": [
        {
          "output_type": "display_data",
          "data": {
            "text/html": [
              "<html>\n",
              "<head><meta charset=\"utf-8\" /></head>\n",
              "<body>\n",
              "    <div>            <script src=\"https://cdnjs.cloudflare.com/ajax/libs/mathjax/2.7.5/MathJax.js?config=TeX-AMS-MML_SVG\"></script><script type=\"text/javascript\">if (window.MathJax) {MathJax.Hub.Config({SVG: {font: \"STIX-Web\"}});}</script>                <script type=\"text/javascript\">window.PlotlyConfig = {MathJaxConfig: 'local'};</script>\n",
              "        <script src=\"https://cdn.plot.ly/plotly-latest.min.js\"></script>                <div id=\"1fee4756-9cd0-46de-846a-9f80ba883271\" class=\"plotly-graph-div\" style=\"height:550px; width:100%;\"></div>            <script type=\"text/javascript\">                                    window.PLOTLYENV=window.PLOTLYENV || {};                                    if (document.getElementById(\"1fee4756-9cd0-46de-846a-9f80ba883271\")) {                    Plotly.newPlot(                        \"1fee4756-9cd0-46de-846a-9f80ba883271\",                        [{\"branchvalues\": \"total\", \"domain\": {\"x\": [0.0, 1.0], \"y\": [0.0, 1.0]}, \"hovertemplate\": \"<b>%{label}:</b> %{value:.2f}%\", \"ids\": [\"Consumo N\\u00e3o-C\\u00edclico/Bebidas/ABEV3\", \"Consumo N\\u00e3o-C\\u00edclico/Com\\u00e9rcio Distr./ASAI3\", \"Bens Industriais/Transporte/AZUL4\", \"Financeiro/Servi\\u00e7os Financeiros Diversos/B3SA3\", \"Financeiro/Interms Financs/BBAS3\", \"Financeiro/Interms Financs/BBDC3\", \"Financeiro/Interms Financs/BBDC4\", \"Financeiro/Previd  Seguros/BBSE3\", \"Consumo N\\u00e3o-C\\u00edclico/Alimentos Processados/BEEF3\", \"Financeiro/Interms Financs/BIDI11\", \"Financeiro/Interms Financs/BPAC11\", \"Materiais B\\u00e1sicos/Minera\\u00e7\\u00e3o/BRAP4\", \"Petr\\u00f3leo/G\\u00e1s e Biocombust\\u00edveis/BRDT3\", \"Consumo N\\u00e3o-C\\u00edclico/Alimentos Processados/BRFS3\", \"Materiais B\\u00e1sicos/Qu\\u00edmicos/BRKM5\", \"Financeiro/Explor Im\\u00f3veis/BRML3\", \"Consumo C\\u00edclico/Com\\u00e9rcio/BTOW3\", \"Bens Industriais/Transporte/CCRO3\", \"Financeiro/Servi\\u00e7os Financeiros Diversos/CIEL3\", \"Utilidade P\\u00fablica/Energ El\\u00e9trica/CMIG4\", \"Diversos/Diversos/COGN3\", \"Utilidade P\\u00fablica/Energ El\\u00e9trica/CPFE3\", \"Utilidade P\\u00fablica/Energ El\\u00e9trica/CPLE6\", \"Consumo N\\u00e3o-C\\u00edclico/Com\\u00e9rcio Distr./CRFB3\", \"Petr\\u00f3leo/G\\u00e1s e Biocombust\\u00edveis/CSAN3\", \"Materiais B\\u00e1sicos/Sid Metalurgia/CSNA3\", \"Consumo C\\u00edclico/Viagens e Lazer/CVCB3\", \"Consumo C\\u00edclico/Constr Civil/CYRE3\", \"Bens Industriais/Transporte/ECOR3\", \"Utilidade P\\u00fablica/Energ El\\u00e9trica/EGIE3\", \"Utilidade P\\u00fablica/Energ El\\u00e9trica/ELET3\", \"Utilidade P\\u00fablica/Energ El\\u00e9trica/ELET6\", \"Bens Industriais/Mat Transporte/EMBR3\", \"Utilidade P\\u00fablica/Energ El\\u00e9trica/ENBR3\", \"Utilidade P\\u00fablica/Energ El\\u00e9trica/ENEV3\", \"Utilidade P\\u00fablica/Energ El\\u00e9trica/ENGI11\", \"Utilidade P\\u00fablica/Energ El\\u00e9trica/EQTL3\", \"Consumo C\\u00edclico/Constr Civil/EZTC3\", \"Sa\\u00fade/SM Hosp An.Diag/FLRY3\", \"Materiais B\\u00e1sicos/Sid Metalurgia/GGBR4\", \"Sa\\u00fade/SM Hosp An.Diag/GNDI3\", \"Materiais B\\u00e1sicos/Sid Metalurgia/GOAU4\", \"Bens Industriais/Transporte/GOLL4\", \"Sa\\u00fade/SM Hosp An.Diag/HAPV3\", \"Consumo C\\u00edclico/Tecid Vest Cal\\u00e7/HGTX3\", \"Sa\\u00fade/Com\\u00e9rcio Distr./HYPE3\", \"Financeiro/Explor Im\\u00f3veis/IGTA3\", \"Financeiro/Previd  Seguros/IRBR3\", \"Financeiro/Interms Financs/ITSA4\", \"Financeiro/Interms Financs/ITUB4\", \"Consumo N\\u00e3o-C\\u00edclico/Alimentos Processados/JBSS3\", \"Consumo C\\u00edclico/Constr Civil/JHSF3\", \"Materiais B\\u00e1sicos/Madeira e Papel/KLBN11\", \"Consumo C\\u00edclico/Com\\u00e9rcio/LAME4\", \"Diversos/Diversos/LCAM3\", \"Consumo C\\u00edclico/Com\\u00e9rcio/LREN3\", \"Tec.Informa\\u00e7\\u00e3o/Programas Servs/LWSA3\", \"Consumo C\\u00edclico/Com\\u00e9rcio/MGLU3\", \"Consumo N\\u00e3o-C\\u00edclico/Alimentos Processados/MRFG3\", \"Consumo C\\u00edclico/Constr Civil/MRVE3\", \"Financeiro/Explor Im\\u00f3veis/MULT3\", \"Consumo N\\u00e3o-C\\u00edclico/Pr Pessoal Limp/NTCO3\", \"Consumo N\\u00e3o-C\\u00edclico/Com\\u00e9rcio Distr./PCAR3\", \"Petr\\u00f3leo/G\\u00e1s e Biocombust\\u00edveis/PETR3\", \"Petr\\u00f3leo/G\\u00e1s e Biocombust\\u00edveis/PETR4\", \"Petr\\u00f3leo/G\\u00e1s e Biocombust\\u00edveis/PRIO3\", \"Sa\\u00fade/SM Hosp An.Diag/QUAL3\", \"Sa\\u00fade/Com\\u00e9rcio Distr./RADL3\", \"Bens Industriais/Transporte/RAIL3\", \"Diversos/Diversos/RENT3\", \"Financeiro/Interms Financs/SANB11\", \"Utilidade P\\u00fablica/\\u00c1gua Saneamento/SBSP3\", \"Financeiro/Previd  Seguros/SULA11\", \"Materiais B\\u00e1sicos/Madeira e Papel/SUZB3\", \"Utilidade P\\u00fablica/Energ El\\u00e9trica/TAEE11\", \"Telecomunica\\u00e7\\u00e3o/Telecomunica\\u00e7\\u00e3o/TIMS3\", \"Tec.Informa\\u00e7\\u00e3o/Programas Servs/TOTS3\", \"Petr\\u00f3leo/G\\u00e1s e Biocombust\\u00edveis/UGPA3\", \"Materiais B\\u00e1sicos/Sid Metalurgia/USIM5\", \"Materiais B\\u00e1sicos/Minera\\u00e7\\u00e3o/VALE3\", \"Telecomunica\\u00e7\\u00e3o/Telecomunica\\u00e7\\u00e3o/VIVT3\", \"Consumo C\\u00edclico/Com\\u00e9rcio/VVAR3\", \"Bens Industriais/M\\u00e1qs e Equips/WEGE3\", \"Diversos/Diversos/YDUQ3\", \"Consumo N\\u00e3o-C\\u00edclico/Alimentos Processados\", \"Consumo N\\u00e3o-C\\u00edclico/Bebidas\", \"Consumo C\\u00edclico/Com\\u00e9rcio\", \"Consumo N\\u00e3o-C\\u00edclico/Com\\u00e9rcio Distr.\", \"Sa\\u00fade/Com\\u00e9rcio Distr.\", \"Consumo C\\u00edclico/Constr Civil\", \"Diversos/Diversos\", \"Utilidade P\\u00fablica/Energ El\\u00e9trica\", \"Financeiro/Explor Im\\u00f3veis\", \"Petr\\u00f3leo/G\\u00e1s e Biocombust\\u00edveis\", \"Financeiro/Interms Financs\", \"Materiais B\\u00e1sicos/Madeira e Papel\", \"Bens Industriais/Mat Transporte\", \"Materiais B\\u00e1sicos/Minera\\u00e7\\u00e3o\", \"Bens Industriais/M\\u00e1qs e Equips\", \"Consumo N\\u00e3o-C\\u00edclico/Pr Pessoal Limp\", \"Financeiro/Previd  Seguros\", \"Tec.Informa\\u00e7\\u00e3o/Programas Servs\", \"Materiais B\\u00e1sicos/Qu\\u00edmicos\", \"Sa\\u00fade/SM Hosp An.Diag\", \"Financeiro/Servi\\u00e7os Financeiros Diversos\", \"Materiais B\\u00e1sicos/Sid Metalurgia\", \"Consumo C\\u00edclico/Tecid Vest Cal\\u00e7\", \"Telecomunica\\u00e7\\u00e3o/Telecomunica\\u00e7\\u00e3o\", \"Bens Industriais/Transporte\", \"Consumo C\\u00edclico/Viagens e Lazer\", \"Utilidade P\\u00fablica/\\u00c1gua Saneamento\", \"Bens Industriais\", \"Consumo C\\u00edclico\", \"Consumo N\\u00e3o-C\\u00edclico\", \"Diversos\", \"Financeiro\", \"Materiais B\\u00e1sicos\", \"Petr\\u00f3leo\", \"Sa\\u00fade\", \"Tec.Informa\\u00e7\\u00e3o\", \"Telecomunica\\u00e7\\u00e3o\", \"Utilidade P\\u00fablica\"], \"labels\": [\"ABEV3\", \"ASAI3\", \"AZUL4\", \"B3SA3\", \"BBAS3\", \"BBDC3\", \"BBDC4\", \"BBSE3\", \"BEEF3\", \"BIDI11\", \"BPAC11\", \"BRAP4\", \"BRDT3\", \"BRFS3\", \"BRKM5\", \"BRML3\", \"BTOW3\", \"CCRO3\", \"CIEL3\", \"CMIG4\", \"COGN3\", \"CPFE3\", \"CPLE6\", \"CRFB3\", \"CSAN3\", \"CSNA3\", \"CVCB3\", \"CYRE3\", \"ECOR3\", \"EGIE3\", \"ELET3\", \"ELET6\", \"EMBR3\", \"ENBR3\", \"ENEV3\", \"ENGI11\", \"EQTL3\", \"EZTC3\", \"FLRY3\", \"GGBR4\", \"GNDI3\", \"GOAU4\", \"GOLL4\", \"HAPV3\", \"HGTX3\", \"HYPE3\", \"IGTA3\", \"IRBR3\", \"ITSA4\", \"ITUB4\", \"JBSS3\", \"JHSF3\", \"KLBN11\", \"LAME4\", \"LCAM3\", \"LREN3\", \"LWSA3\", \"MGLU3\", \"MRFG3\", \"MRVE3\", \"MULT3\", \"NTCO3\", \"PCAR3\", \"PETR3\", \"PETR4\", \"PRIO3\", \"QUAL3\", \"RADL3\", \"RAIL3\", \"RENT3\", \"SANB11\", \"SBSP3\", \"SULA11\", \"SUZB3\", \"TAEE11\", \"TIMS3\", \"TOTS3\", \"UGPA3\", \"USIM5\", \"VALE3\", \"VIVT3\", \"VVAR3\", \"WEGE3\", \"YDUQ3\", \"Alimentos Processados\", \"Bebidas\", \"Com\\u00e9rcio\", \"Com\\u00e9rcio Distr.\", \"Com\\u00e9rcio Distr.\", \"Constr Civil\", \"Diversos\", \"Energ El\\u00e9trica\", \"Explor Im\\u00f3veis\", \"G\\u00e1s e Biocombust\\u00edveis\", \"Interms Financs\", \"Madeira e Papel\", \"Mat Transporte\", \"Minera\\u00e7\\u00e3o\", \"M\\u00e1qs e Equips\", \"Pr Pessoal Limp\", \"Previd  Seguros\", \"Programas Servs\", \"Qu\\u00edmicos\", \"SM Hosp An.Diag\", \"Servi\\u00e7os Financeiros Diversos\", \"Sid Metalurgia\", \"Tecid Vest Cal\\u00e7\", \"Telecomunica\\u00e7\\u00e3o\", \"Transporte\", \"Viagens e Lazer\", \"\\u00c1gua Saneamento\", \"Bens Industriais\", \"Consumo C\\u00edclico\", \"Consumo N\\u00e3o-C\\u00edclico\", \"Diversos\", \"Financeiro\", \"Materiais B\\u00e1sicos\", \"Petr\\u00f3leo\", \"Sa\\u00fade\", \"Tec.Informa\\u00e7\\u00e3o\", \"Telecomunica\\u00e7\\u00e3o\", \"Utilidade P\\u00fablica\"], \"name\": \"\", \"parents\": [\"Consumo N\\u00e3o-C\\u00edclico/Bebidas\", \"Consumo N\\u00e3o-C\\u00edclico/Com\\u00e9rcio Distr.\", \"Bens Industriais/Transporte\", \"Financeiro/Servi\\u00e7os Financeiros Diversos\", \"Financeiro/Interms Financs\", \"Financeiro/Interms Financs\", \"Financeiro/Interms Financs\", \"Financeiro/Previd  Seguros\", \"Consumo N\\u00e3o-C\\u00edclico/Alimentos Processados\", \"Financeiro/Interms Financs\", \"Financeiro/Interms Financs\", \"Materiais B\\u00e1sicos/Minera\\u00e7\\u00e3o\", \"Petr\\u00f3leo/G\\u00e1s e Biocombust\\u00edveis\", \"Consumo N\\u00e3o-C\\u00edclico/Alimentos Processados\", \"Materiais B\\u00e1sicos/Qu\\u00edmicos\", \"Financeiro/Explor Im\\u00f3veis\", \"Consumo C\\u00edclico/Com\\u00e9rcio\", \"Bens Industriais/Transporte\", \"Financeiro/Servi\\u00e7os Financeiros Diversos\", \"Utilidade P\\u00fablica/Energ El\\u00e9trica\", \"Diversos/Diversos\", \"Utilidade P\\u00fablica/Energ El\\u00e9trica\", \"Utilidade P\\u00fablica/Energ El\\u00e9trica\", \"Consumo N\\u00e3o-C\\u00edclico/Com\\u00e9rcio Distr.\", \"Petr\\u00f3leo/G\\u00e1s e Biocombust\\u00edveis\", \"Materiais B\\u00e1sicos/Sid Metalurgia\", \"Consumo C\\u00edclico/Viagens e Lazer\", \"Consumo C\\u00edclico/Constr Civil\", \"Bens Industriais/Transporte\", \"Utilidade P\\u00fablica/Energ El\\u00e9trica\", \"Utilidade P\\u00fablica/Energ El\\u00e9trica\", \"Utilidade P\\u00fablica/Energ El\\u00e9trica\", \"Bens Industriais/Mat Transporte\", \"Utilidade P\\u00fablica/Energ El\\u00e9trica\", \"Utilidade P\\u00fablica/Energ El\\u00e9trica\", \"Utilidade P\\u00fablica/Energ El\\u00e9trica\", \"Utilidade P\\u00fablica/Energ El\\u00e9trica\", \"Consumo C\\u00edclico/Constr Civil\", \"Sa\\u00fade/SM Hosp An.Diag\", \"Materiais B\\u00e1sicos/Sid Metalurgia\", \"Sa\\u00fade/SM Hosp An.Diag\", \"Materiais B\\u00e1sicos/Sid Metalurgia\", \"Bens Industriais/Transporte\", \"Sa\\u00fade/SM Hosp An.Diag\", \"Consumo C\\u00edclico/Tecid Vest Cal\\u00e7\", \"Sa\\u00fade/Com\\u00e9rcio Distr.\", \"Financeiro/Explor Im\\u00f3veis\", \"Financeiro/Previd  Seguros\", \"Financeiro/Interms Financs\", \"Financeiro/Interms Financs\", \"Consumo N\\u00e3o-C\\u00edclico/Alimentos Processados\", \"Consumo C\\u00edclico/Constr Civil\", \"Materiais B\\u00e1sicos/Madeira e Papel\", \"Consumo C\\u00edclico/Com\\u00e9rcio\", \"Diversos/Diversos\", \"Consumo C\\u00edclico/Com\\u00e9rcio\", \"Tec.Informa\\u00e7\\u00e3o/Programas Servs\", \"Consumo C\\u00edclico/Com\\u00e9rcio\", \"Consumo N\\u00e3o-C\\u00edclico/Alimentos Processados\", \"Consumo C\\u00edclico/Constr Civil\", \"Financeiro/Explor Im\\u00f3veis\", \"Consumo N\\u00e3o-C\\u00edclico/Pr Pessoal Limp\", \"Consumo N\\u00e3o-C\\u00edclico/Com\\u00e9rcio Distr.\", \"Petr\\u00f3leo/G\\u00e1s e Biocombust\\u00edveis\", \"Petr\\u00f3leo/G\\u00e1s e Biocombust\\u00edveis\", \"Petr\\u00f3leo/G\\u00e1s e Biocombust\\u00edveis\", \"Sa\\u00fade/SM Hosp An.Diag\", \"Sa\\u00fade/Com\\u00e9rcio Distr.\", \"Bens Industriais/Transporte\", \"Diversos/Diversos\", \"Financeiro/Interms Financs\", \"Utilidade P\\u00fablica/\\u00c1gua Saneamento\", \"Financeiro/Previd  Seguros\", \"Materiais B\\u00e1sicos/Madeira e Papel\", \"Utilidade P\\u00fablica/Energ El\\u00e9trica\", \"Telecomunica\\u00e7\\u00e3o/Telecomunica\\u00e7\\u00e3o\", \"Tec.Informa\\u00e7\\u00e3o/Programas Servs\", \"Petr\\u00f3leo/G\\u00e1s e Biocombust\\u00edveis\", \"Materiais B\\u00e1sicos/Sid Metalurgia\", \"Materiais B\\u00e1sicos/Minera\\u00e7\\u00e3o\", \"Telecomunica\\u00e7\\u00e3o/Telecomunica\\u00e7\\u00e3o\", \"Consumo C\\u00edclico/Com\\u00e9rcio\", \"Bens Industriais/M\\u00e1qs e Equips\", \"Diversos/Diversos\", \"Consumo N\\u00e3o-C\\u00edclico\", \"Consumo N\\u00e3o-C\\u00edclico\", \"Consumo C\\u00edclico\", \"Consumo N\\u00e3o-C\\u00edclico\", \"Sa\\u00fade\", \"Consumo C\\u00edclico\", \"Diversos\", \"Utilidade P\\u00fablica\", \"Financeiro\", \"Petr\\u00f3leo\", \"Financeiro\", \"Materiais B\\u00e1sicos\", \"Bens Industriais\", \"Materiais B\\u00e1sicos\", \"Bens Industriais\", \"Consumo N\\u00e3o-C\\u00edclico\", \"Financeiro\", \"Tec.Informa\\u00e7\\u00e3o\", \"Materiais B\\u00e1sicos\", \"Sa\\u00fade\", \"Financeiro\", \"Materiais B\\u00e1sicos\", \"Consumo C\\u00edclico\", \"Telecomunica\\u00e7\\u00e3o\", \"Bens Industriais\", \"Consumo C\\u00edclico\", \"Utilidade P\\u00fablica\", \"\", \"\", \"\", \"\", \"\", \"\", \"\", \"\", \"\", \"\", \"\"], \"textfont\": {\"color\": \"white\", \"size\": 14}, \"type\": \"sunburst\", \"values\": [3.444, 0.32899999999999996, 0.586, 4.742, 1.8880000000000001, 1.248, 4.9030000000000005, 0.705, 0.102, 0.631, 1.229, 0.713, 1.325, 0.805, 0.609, 0.405, 0.514, 0.6920000000000001, 0.195, 0.6459999999999999, 0.33299999999999996, 0.24100000000000002, 0.155, 0.36, 1.177, 1.3659999999999999, 0.21899999999999997, 0.292, 0.094, 0.461, 0.685, 0.46399999999999997, 0.526, 0.19399999999999998, 0.941, 0.513, 1.166, 0.133, 0.369, 1.59, 2.144, 0.48700000000000004, 0.162, 0.8290000000000001, 0.163, 0.647, 0.162, 0.34299999999999997, 2.1830000000000003, 6.252999999999999, 1.867, 0.098, 1.112, 0.726, 0.364, 1.7719999999999998, 0.444, 2.244, 0.315, 0.23, 0.272, 1.9180000000000001, 0.247, 4.158, 5.372999999999999, 0.6629999999999999, 0.33899999999999997, 1.29, 1.1079999999999999, 1.597, 0.6559999999999999, 0.637, 0.40700000000000003, 2.151, 0.385, 0.435, 0.6609999999999999, 0.9940000000000001, 0.475, 12.41, 0.879, 0.865, 2.108, 0.43700000000000006, 3.089, 3.444, 6.121, 0.9359999999999999, 1.937, 0.753, 2.731, 5.850999999999999, 0.8390000000000001, 13.69, 18.991, 3.263, 0.526, 13.123, 2.108, 1.9180000000000001, 1.455, 1.105, 0.609, 3.681, 4.937, 3.9179999999999997, 0.163, 1.314, 2.642, 0.21899999999999997, 0.637, 5.276, 7.256000000000001, 9.387, 2.731, 26.221999999999998, 20.912999999999997, 13.69, 5.618, 1.105, 1.314, 6.4879999999999995]}],                        {\"height\": 550, \"legend\": {\"tracegroupgap\": 0}, \"margin\": {\"t\": 60}, \"template\": {\"data\": {\"bar\": [{\"error_x\": {\"color\": \"#2a3f5f\"}, \"error_y\": {\"color\": \"#2a3f5f\"}, \"marker\": {\"line\": {\"color\": \"#E5ECF6\", \"width\": 0.5}}, \"type\": \"bar\"}], \"barpolar\": [{\"marker\": {\"line\": {\"color\": \"#E5ECF6\", \"width\": 0.5}}, \"type\": \"barpolar\"}], \"carpet\": [{\"aaxis\": {\"endlinecolor\": \"#2a3f5f\", \"gridcolor\": \"white\", \"linecolor\": \"white\", \"minorgridcolor\": \"white\", \"startlinecolor\": \"#2a3f5f\"}, \"baxis\": {\"endlinecolor\": \"#2a3f5f\", \"gridcolor\": \"white\", \"linecolor\": \"white\", \"minorgridcolor\": \"white\", \"startlinecolor\": \"#2a3f5f\"}, \"type\": \"carpet\"}], \"choropleth\": [{\"colorbar\": {\"outlinewidth\": 0, \"ticks\": \"\"}, \"type\": \"choropleth\"}], \"contour\": [{\"colorbar\": {\"outlinewidth\": 0, \"ticks\": \"\"}, \"colorscale\": [[0.0, \"#0d0887\"], [0.1111111111111111, \"#46039f\"], [0.2222222222222222, \"#7201a8\"], [0.3333333333333333, \"#9c179e\"], [0.4444444444444444, \"#bd3786\"], [0.5555555555555556, \"#d8576b\"], [0.6666666666666666, \"#ed7953\"], [0.7777777777777778, \"#fb9f3a\"], [0.8888888888888888, \"#fdca26\"], [1.0, \"#f0f921\"]], \"type\": \"contour\"}], \"contourcarpet\": [{\"colorbar\": {\"outlinewidth\": 0, \"ticks\": \"\"}, \"type\": \"contourcarpet\"}], \"heatmap\": [{\"colorbar\": {\"outlinewidth\": 0, \"ticks\": \"\"}, \"colorscale\": [[0.0, \"#0d0887\"], [0.1111111111111111, \"#46039f\"], [0.2222222222222222, \"#7201a8\"], [0.3333333333333333, \"#9c179e\"], [0.4444444444444444, \"#bd3786\"], [0.5555555555555556, \"#d8576b\"], [0.6666666666666666, \"#ed7953\"], [0.7777777777777778, \"#fb9f3a\"], [0.8888888888888888, \"#fdca26\"], [1.0, \"#f0f921\"]], \"type\": \"heatmap\"}], \"heatmapgl\": [{\"colorbar\": {\"outlinewidth\": 0, \"ticks\": \"\"}, \"colorscale\": [[0.0, \"#0d0887\"], [0.1111111111111111, \"#46039f\"], [0.2222222222222222, \"#7201a8\"], [0.3333333333333333, \"#9c179e\"], [0.4444444444444444, \"#bd3786\"], [0.5555555555555556, \"#d8576b\"], [0.6666666666666666, \"#ed7953\"], [0.7777777777777778, \"#fb9f3a\"], [0.8888888888888888, \"#fdca26\"], [1.0, \"#f0f921\"]], \"type\": \"heatmapgl\"}], \"histogram\": [{\"marker\": {\"colorbar\": {\"outlinewidth\": 0, \"ticks\": \"\"}}, \"type\": \"histogram\"}], \"histogram2d\": [{\"colorbar\": {\"outlinewidth\": 0, \"ticks\": \"\"}, \"colorscale\": [[0.0, \"#0d0887\"], [0.1111111111111111, \"#46039f\"], [0.2222222222222222, \"#7201a8\"], [0.3333333333333333, \"#9c179e\"], [0.4444444444444444, \"#bd3786\"], [0.5555555555555556, \"#d8576b\"], [0.6666666666666666, \"#ed7953\"], [0.7777777777777778, \"#fb9f3a\"], [0.8888888888888888, \"#fdca26\"], [1.0, \"#f0f921\"]], \"type\": \"histogram2d\"}], \"histogram2dcontour\": [{\"colorbar\": {\"outlinewidth\": 0, \"ticks\": \"\"}, \"colorscale\": [[0.0, \"#0d0887\"], [0.1111111111111111, \"#46039f\"], [0.2222222222222222, \"#7201a8\"], [0.3333333333333333, \"#9c179e\"], [0.4444444444444444, \"#bd3786\"], [0.5555555555555556, \"#d8576b\"], [0.6666666666666666, \"#ed7953\"], [0.7777777777777778, \"#fb9f3a\"], [0.8888888888888888, \"#fdca26\"], [1.0, \"#f0f921\"]], \"type\": \"histogram2dcontour\"}], \"mesh3d\": [{\"colorbar\": {\"outlinewidth\": 0, \"ticks\": \"\"}, \"type\": \"mesh3d\"}], \"parcoords\": [{\"line\": {\"colorbar\": {\"outlinewidth\": 0, \"ticks\": \"\"}}, \"type\": \"parcoords\"}], \"pie\": [{\"automargin\": true, \"type\": \"pie\"}], \"scatter\": [{\"marker\": {\"colorbar\": {\"outlinewidth\": 0, \"ticks\": \"\"}}, \"type\": \"scatter\"}], \"scatter3d\": [{\"line\": {\"colorbar\": {\"outlinewidth\": 0, \"ticks\": \"\"}}, \"marker\": {\"colorbar\": {\"outlinewidth\": 0, \"ticks\": \"\"}}, \"type\": \"scatter3d\"}], \"scattercarpet\": [{\"marker\": {\"colorbar\": {\"outlinewidth\": 0, \"ticks\": \"\"}}, \"type\": \"scattercarpet\"}], \"scattergeo\": [{\"marker\": {\"colorbar\": {\"outlinewidth\": 0, \"ticks\": \"\"}}, \"type\": \"scattergeo\"}], \"scattergl\": [{\"marker\": {\"colorbar\": {\"outlinewidth\": 0, \"ticks\": \"\"}}, \"type\": \"scattergl\"}], \"scattermapbox\": [{\"marker\": {\"colorbar\": {\"outlinewidth\": 0, \"ticks\": \"\"}}, \"type\": \"scattermapbox\"}], \"scatterpolar\": [{\"marker\": {\"colorbar\": {\"outlinewidth\": 0, \"ticks\": \"\"}}, \"type\": \"scatterpolar\"}], \"scatterpolargl\": [{\"marker\": {\"colorbar\": {\"outlinewidth\": 0, \"ticks\": \"\"}}, \"type\": \"scatterpolargl\"}], \"scatterternary\": [{\"marker\": {\"colorbar\": {\"outlinewidth\": 0, \"ticks\": \"\"}}, \"type\": \"scatterternary\"}], \"surface\": [{\"colorbar\": {\"outlinewidth\": 0, \"ticks\": \"\"}, \"colorscale\": [[0.0, \"#0d0887\"], [0.1111111111111111, \"#46039f\"], [0.2222222222222222, \"#7201a8\"], [0.3333333333333333, \"#9c179e\"], [0.4444444444444444, \"#bd3786\"], [0.5555555555555556, \"#d8576b\"], [0.6666666666666666, \"#ed7953\"], [0.7777777777777778, \"#fb9f3a\"], [0.8888888888888888, \"#fdca26\"], [1.0, \"#f0f921\"]], \"type\": \"surface\"}], \"table\": [{\"cells\": {\"fill\": {\"color\": \"#EBF0F8\"}, \"line\": {\"color\": \"white\"}}, \"header\": {\"fill\": {\"color\": \"#C8D4E3\"}, \"line\": {\"color\": \"white\"}}, \"type\": \"table\"}]}, \"layout\": {\"annotationdefaults\": {\"arrowcolor\": \"#2a3f5f\", \"arrowhead\": 0, \"arrowwidth\": 1}, \"autotypenumbers\": \"strict\", \"coloraxis\": {\"colorbar\": {\"outlinewidth\": 0, \"ticks\": \"\"}}, \"colorscale\": {\"diverging\": [[0, \"#8e0152\"], [0.1, \"#c51b7d\"], [0.2, \"#de77ae\"], [0.3, \"#f1b6da\"], [0.4, \"#fde0ef\"], [0.5, \"#f7f7f7\"], [0.6, \"#e6f5d0\"], [0.7, \"#b8e186\"], [0.8, \"#7fbc41\"], [0.9, \"#4d9221\"], [1, \"#276419\"]], \"sequential\": [[0.0, \"#0d0887\"], [0.1111111111111111, \"#46039f\"], [0.2222222222222222, \"#7201a8\"], [0.3333333333333333, \"#9c179e\"], [0.4444444444444444, \"#bd3786\"], [0.5555555555555556, \"#d8576b\"], [0.6666666666666666, \"#ed7953\"], [0.7777777777777778, \"#fb9f3a\"], [0.8888888888888888, \"#fdca26\"], [1.0, \"#f0f921\"]], \"sequentialminus\": [[0.0, \"#0d0887\"], [0.1111111111111111, \"#46039f\"], [0.2222222222222222, \"#7201a8\"], [0.3333333333333333, \"#9c179e\"], [0.4444444444444444, \"#bd3786\"], [0.5555555555555556, \"#d8576b\"], [0.6666666666666666, \"#ed7953\"], [0.7777777777777778, \"#fb9f3a\"], [0.8888888888888888, \"#fdca26\"], [1.0, \"#f0f921\"]]}, \"colorway\": [\"#636efa\", \"#EF553B\", \"#00cc96\", \"#ab63fa\", \"#FFA15A\", \"#19d3f3\", \"#FF6692\", \"#B6E880\", \"#FF97FF\", \"#FECB52\"], \"font\": {\"color\": \"#2a3f5f\"}, \"geo\": {\"bgcolor\": \"white\", \"lakecolor\": \"white\", \"landcolor\": \"#E5ECF6\", \"showlakes\": true, \"showland\": true, \"subunitcolor\": \"white\"}, \"hoverlabel\": {\"align\": \"left\"}, \"hovermode\": \"closest\", \"mapbox\": {\"style\": \"light\"}, \"paper_bgcolor\": \"white\", \"plot_bgcolor\": \"#E5ECF6\", \"polar\": {\"angularaxis\": {\"gridcolor\": \"white\", \"linecolor\": \"white\", \"ticks\": \"\"}, \"bgcolor\": \"#E5ECF6\", \"radialaxis\": {\"gridcolor\": \"white\", \"linecolor\": \"white\", \"ticks\": \"\"}}, \"scene\": {\"xaxis\": {\"backgroundcolor\": \"#E5ECF6\", \"gridcolor\": \"white\", \"gridwidth\": 2, \"linecolor\": \"white\", \"showbackground\": true, \"ticks\": \"\", \"zerolinecolor\": \"white\"}, \"yaxis\": {\"backgroundcolor\": \"#E5ECF6\", \"gridcolor\": \"white\", \"gridwidth\": 2, \"linecolor\": \"white\", \"showbackground\": true, \"ticks\": \"\", \"zerolinecolor\": \"white\"}, \"zaxis\": {\"backgroundcolor\": \"#E5ECF6\", \"gridcolor\": \"white\", \"gridwidth\": 2, \"linecolor\": \"white\", \"showbackground\": true, \"ticks\": \"\", \"zerolinecolor\": \"white\"}}, \"shapedefaults\": {\"line\": {\"color\": \"#2a3f5f\"}}, \"ternary\": {\"aaxis\": {\"gridcolor\": \"white\", \"linecolor\": \"white\", \"ticks\": \"\"}, \"baxis\": {\"gridcolor\": \"white\", \"linecolor\": \"white\", \"ticks\": \"\"}, \"bgcolor\": \"#E5ECF6\", \"caxis\": {\"gridcolor\": \"white\", \"linecolor\": \"white\", \"ticks\": \"\"}}, \"title\": {\"x\": 0.05}, \"xaxis\": {\"automargin\": true, \"gridcolor\": \"white\", \"linecolor\": \"white\", \"ticks\": \"\", \"title\": {\"standoff\": 15}, \"zerolinecolor\": \"white\", \"zerolinewidth\": 2}, \"yaxis\": {\"automargin\": true, \"gridcolor\": \"white\", \"linecolor\": \"white\", \"ticks\": \"\", \"title\": {\"standoff\": 15}, \"zerolinecolor\": \"white\", \"zerolinewidth\": 2}}}},                        {\"responsive\": true}                    ).then(function(){\n",
              "                            \n",
              "var gd = document.getElementById('1fee4756-9cd0-46de-846a-9f80ba883271');\n",
              "var x = new MutationObserver(function (mutations, observer) {{\n",
              "        var display = window.getComputedStyle(gd).display;\n",
              "        if (!display || display === 'none') {{\n",
              "            console.log([gd, 'removed!']);\n",
              "            Plotly.purge(gd);\n",
              "            observer.disconnect();\n",
              "        }}\n",
              "}});\n",
              "\n",
              "// Listen for the removal of the full notebook cells\n",
              "var notebookContainer = gd.closest('#notebook-container');\n",
              "if (notebookContainer) {{\n",
              "    x.observe(notebookContainer, {childList: true});\n",
              "}}\n",
              "\n",
              "// Listen for the clearing of the current output cell\n",
              "var outputEl = gd.closest('.output');\n",
              "if (outputEl) {{\n",
              "    x.observe(outputEl, {childList: true});\n",
              "}}\n",
              "\n",
              "                        })                };                            </script>        </div>\n",
              "</body>\n",
              "</html>"
            ]
          },
          "metadata": {
            "tags": []
          }
        }
      ]
    },
    {
      "cell_type": "markdown",
      "metadata": {
        "id": "tquO49rVIulr"
      },
      "source": [
        "# **Anexo**: Importando CSV com as opções de índices da B3\n",
        "\n",
        "Neste anexo, importaremos os dados dos diversos índices disponíveis na B3, para gerar o gráfico do respectivo índice basta usar o código do índice escolhido, por exemplo 'IFIX' como parâmetro ao chamar a função: \n",
        "\n",
        "```\n",
        "busca_carteira_teorica\n",
        "```"
      ]
    },
    {
      "cell_type": "code",
      "metadata": {
        "colab": {
          "base_uri": "https://localhost:8080/"
        },
        "id": "i_WKyRVQI32m",
        "outputId": "16955c95-1a58-47bd-dc22-7065d4d0ede2"
      },
      "source": [
        "from google.colab import drive\n",
        "drive.mount('/content/drive')"
      ],
      "execution_count": 16,
      "outputs": [
        {
          "output_type": "stream",
          "text": [
            "Mounted at /content/drive\n"
          ],
          "name": "stdout"
        }
      ]
    },
    {
      "cell_type": "code",
      "metadata": {
        "colab": {
          "base_uri": "https://localhost:8080/",
          "height": 575
        },
        "id": "CMsdK1i5IcFU",
        "outputId": "d6a15eb3-050f-4fad-d2a9-5ed5f41e4b21"
      },
      "source": [
        "indices_B3 = pd.read_csv('/content/drive/MyDrive/Colab Notebooks/Extraindo Dados da B3(Web Scraping) com Python/Captando Dados da B3 e Gerando Gráfico Sunburst/lista_de_indices_ibovespa.CSV', sep=';', encoding = \"ISO-8859-1\")\n",
        "\n",
        "DataTable(indices_B3)"
      ],
      "execution_count": 17,
      "outputs": [
        {
          "output_type": "execute_result",
          "data": {
            "application/vnd.google.colaboratory.module+javascript": "\n      import \"https://ssl.gstatic.com/colaboratory/data_table/a6224c040fa35dcf/data_table.js\";\n\n      window.createDataTable({\n        data: [[{\n            'v': 0,\n            'f': \"0\",\n        },\n\"IBOV\",\n\"\\u00cdndice Bovespa\",\n\"\\u00c9 o principal indicador de desempenho das a\\u00e7\\u00f5es negociadas na B3 e re\\u00fane as empresas mais importantes do mercado de capitais brasileiro\"],\n [{\n            'v': 1,\n            'f': \"1\",\n        },\n\"IBXX\",\n\"\\u00cdndice IBrX 100\",\n\"100 ativos de maior negociabilidade e representatividade do mercado de a\\u00e7\\u00f5es brasileiro\"],\n [{\n            'v': 2,\n            'f': \"2\",\n        },\n\"IBXL\",\n\"\\u00cdndice IBrX 50\",\n\"50 ativos de maior negociabilidade e representatividade do mercado de a\\u00e7\\u00f5es brasileiro\"],\n [{\n            'v': 3,\n            'f': \"3\",\n        },\n\"IBRA\",\n\"\\u00cdndice Brasil Amplo\",\n\"O objetivo do IBrA \\u00e9 ser o indicador do desempenho m\\u00e9dio das cota\\u00e7\\u00f5es de todos os ativos negociados no mercado a vista (lote-padr\\u00e3o) da B3 que atendam a crit\\u00e9rios m\\u00ednimos de liquidez e presen\\u00e7a em preg\\u00e3o, de forma a oferecer uma vis\\u00e3o ampla do mercado acion\\u00e1rio\"],\n [{\n            'v': 4,\n            'f': \"4\",\n        },\n\"IFNC\",\n\"\\u00cdndice Financeiro\",\n\"ativos de maior negociabilidade e representatividade dos setores de intermedi\\u00e1rios financeiros, servi\\u00e7os financeiros diversos, previd\\u00eancia e seguros\"],\n [{\n            'v': 5,\n            'f': \"5\",\n        },\n\"ICON\",\n\"\\u00cdndice de Consumo\",\n\"ativos de maior negociabilidade e representatividade dos setores de consumo c\\u00edclico, consumo n\\u00e3o c\\u00edclico e sa\\u00fade\"],\n [{\n            'v': 6,\n            'f': \"6\",\n        },\n\"IEEX\",\n\"\\u00cdndice de Energia El\\u00e9trica\",\n\"ativos de maior negociabilidade e representatividade do setor de energia el\\u00e9trica\"],\n [{\n            'v': 7,\n            'f': \"7\",\n        },\n\"IFIX\",\n\"\\u00cdndice de Fundos Imobili\\u00e1rios\",\n\"Fundos imobili\\u00e1rios negociados nos mercados de bolsa e de balc\\u00e3o organizado da B3\"],\n [{\n            'v': 8,\n            'f': \"8\",\n        },\n\"IFIL\",\n\"\\u00cdndice de Fundos Imobili\\u00e1rios de Alta Liquidez\",\n\"Fundos imobili\\u00e1rios mais l\\u00edquidos negociados nos mercados de bolsa e de balc\\u00e3o organizado da B3\"],\n [{\n            'v': 9,\n            'f': \"9\",\n        },\n\"IMAT\",\n\"\\u00cdndice de Materiais B\\u00e1sicos\",\n\"ativos de maior negociabilidade e representatividade do setor de materiais b\\u00e1sicos\"],\n [{\n            'v': 10,\n            'f': \"10\",\n        },\n\"IDIV\",\n\"\\u00cdndice Dividendos\",\n\"ativos que se destacaram em termos de remunera\\u00e7\\u00e3o dos investidores, sob a forma de dividendos e juros sobre o capital pr\\u00f3prio\"],\n [{\n            'v': 11,\n            'f': \"11\",\n        },\n\"INDX\",\n\"\\u00cdndice do Setor Industrial\",\n\"ativos de maior negociabilidade e representatividade dos setores da atividade industrial compreendidos por materiais b\\u00e1sicos, bens industriais, consumo c\\u00edclico, consumo n\\u00e3o c\\u00edclico, tecnologia da informa\\u00e7\\u00e3o e sa\\u00fade\"],\n [{\n            'v': 12,\n            'f': \"12\",\n        },\n\"IMOB\",\n\"\\u00cdndice Imobili\\u00e1rio\",\n\"ativos de maior negociabilidade e representatividade dos setores da atividade imobili\\u00e1ria compreendidos por explora\\u00e7\\u00e3o de im\\u00f3veis e constru\\u00e7\\u00e3o civil\"],\n [{\n            'v': 13,\n            'f': \"13\",\n        },\n\"MLCX\",\n\"\\u00cdndice MidLarge Cap\",\n\"ativos de uma carteira composta pelas empresas de maior capitaliza\\u00e7\\u00e3o\"],\n [{\n            'v': 14,\n            'f': \"14\",\n        },\n\"SMLL\",\n\"\\u00cdndice Small Cap\",\n\"empresas de menor capitaliza\\u00e7\\u00e3o\"],\n [{\n            'v': 15,\n            'f': \"15\",\n        },\n\"UTIL\",\n\"\\u00cdndice Utilidade P\\u00fablica\",\n\"ativos de maior negociabilidade e representatividade do setor de utilidade p\\u00fablica (energia el\\u00e9trica, \\u00e1gua e saneamento e g\\u00e1s)\"],\n [{\n            'v': 16,\n            'f': \"16\",\n        },\n\"IVBX\",\n\"\\u00cdndice Valor empresas bem conceituadas pelos investidores\",\n\"\\u00cdndice Valor empresas bem conceituadas pelos investidores\"]],\n        columns: [[\"number\", \"index\"], [\"string\", \"C\\u00f3digo\"], [\"string\", \"Nome do \\u00cdndice\"], [\"string\", \"Descri\\u00e7\\u00e3o do \\u00cdndice\"]],\n        columnOptions: [{\"width\": \"1px\", \"className\": \"index_column\"}],\n        rowsPerPage: 25,\n        helpUrl: \"https://colab.research.google.com/notebooks/data_table.ipynb\",\n        suppressOutputScrolling: true,\n        minimumWidth: undefined,\n      });\n    ",
            "text/plain": [
              "<google.colab.data_table.DataTable object>"
            ],
            "text/html": [
              "<div>\n",
              "<style scoped>\n",
              "    .dataframe tbody tr th:only-of-type {\n",
              "        vertical-align: middle;\n",
              "    }\n",
              "\n",
              "    .dataframe tbody tr th {\n",
              "        vertical-align: top;\n",
              "    }\n",
              "\n",
              "    .dataframe thead th {\n",
              "        text-align: right;\n",
              "    }\n",
              "</style>\n",
              "<table border=\"1\" class=\"dataframe\">\n",
              "  <thead>\n",
              "    <tr style=\"text-align: right;\">\n",
              "      <th></th>\n",
              "      <th>Código</th>\n",
              "      <th>Nome do Índice</th>\n",
              "      <th>Descrição do Índice</th>\n",
              "    </tr>\n",
              "  </thead>\n",
              "  <tbody>\n",
              "    <tr>\n",
              "      <th>0</th>\n",
              "      <td>IBOV</td>\n",
              "      <td>Índice Bovespa</td>\n",
              "      <td>É o principal indicador de desempenho das açõe...</td>\n",
              "    </tr>\n",
              "    <tr>\n",
              "      <th>1</th>\n",
              "      <td>IBXX</td>\n",
              "      <td>Índice IBrX 100</td>\n",
              "      <td>100 ativos de maior negociabilidade e represen...</td>\n",
              "    </tr>\n",
              "    <tr>\n",
              "      <th>2</th>\n",
              "      <td>IBXL</td>\n",
              "      <td>Índice IBrX 50</td>\n",
              "      <td>50 ativos de maior negociabilidade e represent...</td>\n",
              "    </tr>\n",
              "    <tr>\n",
              "      <th>3</th>\n",
              "      <td>IBRA</td>\n",
              "      <td>Índice Brasil Amplo</td>\n",
              "      <td>O objetivo do IBrA é ser o indicador do desemp...</td>\n",
              "    </tr>\n",
              "    <tr>\n",
              "      <th>4</th>\n",
              "      <td>IFNC</td>\n",
              "      <td>Índice Financeiro</td>\n",
              "      <td>ativos de maior negociabilidade e representati...</td>\n",
              "    </tr>\n",
              "    <tr>\n",
              "      <th>5</th>\n",
              "      <td>ICON</td>\n",
              "      <td>Índice de Consumo</td>\n",
              "      <td>ativos de maior negociabilidade e representati...</td>\n",
              "    </tr>\n",
              "    <tr>\n",
              "      <th>6</th>\n",
              "      <td>IEEX</td>\n",
              "      <td>Índice de Energia Elétrica</td>\n",
              "      <td>ativos de maior negociabilidade e representati...</td>\n",
              "    </tr>\n",
              "    <tr>\n",
              "      <th>7</th>\n",
              "      <td>IFIX</td>\n",
              "      <td>Índice de Fundos Imobiliários</td>\n",
              "      <td>Fundos imobiliários negociados nos mercados de...</td>\n",
              "    </tr>\n",
              "    <tr>\n",
              "      <th>8</th>\n",
              "      <td>IFIL</td>\n",
              "      <td>Índice de Fundos Imobiliários de Alta Liquidez</td>\n",
              "      <td>Fundos imobiliários mais líquidos negociados n...</td>\n",
              "    </tr>\n",
              "    <tr>\n",
              "      <th>9</th>\n",
              "      <td>IMAT</td>\n",
              "      <td>Índice de Materiais Básicos</td>\n",
              "      <td>ativos de maior negociabilidade e representati...</td>\n",
              "    </tr>\n",
              "    <tr>\n",
              "      <th>10</th>\n",
              "      <td>IDIV</td>\n",
              "      <td>Índice Dividendos</td>\n",
              "      <td>ativos que se destacaram em termos de remunera...</td>\n",
              "    </tr>\n",
              "    <tr>\n",
              "      <th>11</th>\n",
              "      <td>INDX</td>\n",
              "      <td>Índice do Setor Industrial</td>\n",
              "      <td>ativos de maior negociabilidade e representati...</td>\n",
              "    </tr>\n",
              "    <tr>\n",
              "      <th>12</th>\n",
              "      <td>IMOB</td>\n",
              "      <td>Índice Imobiliário</td>\n",
              "      <td>ativos de maior negociabilidade e representati...</td>\n",
              "    </tr>\n",
              "    <tr>\n",
              "      <th>13</th>\n",
              "      <td>MLCX</td>\n",
              "      <td>Índice MidLarge Cap</td>\n",
              "      <td>ativos de uma carteira composta pelas empresas...</td>\n",
              "    </tr>\n",
              "    <tr>\n",
              "      <th>14</th>\n",
              "      <td>SMLL</td>\n",
              "      <td>Índice Small Cap</td>\n",
              "      <td>empresas de menor capitalização</td>\n",
              "    </tr>\n",
              "    <tr>\n",
              "      <th>15</th>\n",
              "      <td>UTIL</td>\n",
              "      <td>Índice Utilidade Pública</td>\n",
              "      <td>ativos de maior negociabilidade e representati...</td>\n",
              "    </tr>\n",
              "    <tr>\n",
              "      <th>16</th>\n",
              "      <td>IVBX</td>\n",
              "      <td>Índice Valor empresas bem conceituadas pelos i...</td>\n",
              "      <td>Índice Valor empresas bem conceituadas pelos i...</td>\n",
              "    </tr>\n",
              "  </tbody>\n",
              "</table>\n",
              "</div>"
            ]
          },
          "metadata": {
            "tags": []
          },
          "execution_count": 17
        }
      ]
    }
  ]
}